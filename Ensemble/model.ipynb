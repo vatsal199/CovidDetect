{
  "nbformat": 4,
  "nbformat_minor": 0,
  "metadata": {
    "colab": {
      "name": "AVR3.ipynb",
      "provenance": [],
      "collapsed_sections": []
    },
    "kernelspec": {
      "name": "python3",
      "display_name": "Python 3"
    }
  },
  "cells": [
    {
      "cell_type": "code",
      "metadata": {
        "id": "fn60Zq8AEeta"
      },
      "source": [
        "import numpy as np\n",
        "from sklearn import svm\n",
        "import pickle\n",
        "from sklearn.metrics import confusion_matrix\n",
        "import seaborn as sn\n",
        "import pandas as pd\n",
        "import matplotlib.pyplot as plt"
      ],
      "execution_count": null,
      "outputs": []
    },
    {
      "cell_type": "code",
      "metadata": {
        "id": "7-Wq5WDZG5nG"
      },
      "source": [
        "svm_c = 1\n",
        "svm_gamma = 0.01\n",
        "svm_kernal = 'rbf'\n",
        "clsFile = 'cls.sav'"
      ],
      "execution_count": null,
      "outputs": []
    },
    {
      "cell_type": "code",
      "metadata": {
        "id": "EarQFPn1Ejav"
      },
      "source": [
        "file_names = ['dense_out_train.csv','dense_out2_train.csv','dense_out3_train.csv','dense_out4_train.csv']\n",
        "test_files = ['dense_out_val.csv','dense_out2_val.csv','dense_out3_val.csv','dense_out4_val.csv']"
      ],
      "execution_count": null,
      "outputs": []
    },
    {
      "cell_type": "code",
      "metadata": {
        "id": "4wBmHSBsJuIF"
      },
      "source": [
        "# !cp -R '/content/drive/My Drive/COVID-19/Sample' '/content/'\n",
        "# !rm -R 'Sample'"
      ],
      "execution_count": null,
      "outputs": []
    },
    {
      "cell_type": "code",
      "metadata": {
        "id": "30eYPIQzEL-C",
        "outputId": "b8f47388-370e-4e62-cc06-fdb43eaa46ba",
        "colab": {
          "base_uri": "https://localhost:8080/",
          "height": 34
        }
      },
      "source": [
        "# read dense net\n",
        "loadData = np.loadtxt(file_names[0],delimiter=',')\n",
        "trainY = loadData[:,-1]\n",
        "train1Data = loadData[:,:-1]\n",
        "print(train1Data.shape,trainY.shape)"
      ],
      "execution_count": null,
      "outputs": [
        {
          "output_type": "stream",
          "text": [
            "(6, 3) (6,)\n"
          ],
          "name": "stdout"
        }
      ]
    },
    {
      "cell_type": "code",
      "metadata": {
        "id": "osRxeD75FSxG",
        "outputId": "1ebb4e24-5d26-418c-98f1-1b5e66f2bf64",
        "colab": {
          "base_uri": "https://localhost:8080/",
          "height": 34
        }
      },
      "source": [
        "# read dense net2\n",
        "train2Data = np.loadtxt(file_names[1],delimiter=',')[:,:-1]\n",
        "print(train2Data.shape)"
      ],
      "execution_count": null,
      "outputs": [
        {
          "output_type": "stream",
          "text": [
            "(6, 3)\n"
          ],
          "name": "stdout"
        }
      ]
    },
    {
      "cell_type": "code",
      "metadata": {
        "id": "gKGMG5HCFpm-",
        "outputId": "9833e7a0-5f5a-4c9b-a543-56c0736ec285",
        "colab": {
          "base_uri": "https://localhost:8080/",
          "height": 34
        }
      },
      "source": [
        "# read dense net3\n",
        "train3Data = np.loadtxt(file_names[2],delimiter=',')[:,:-1]\n",
        "print(train3Data.shape)"
      ],
      "execution_count": null,
      "outputs": [
        {
          "output_type": "stream",
          "text": [
            "(6, 3)\n"
          ],
          "name": "stdout"
        }
      ]
    },
    {
      "cell_type": "code",
      "metadata": {
        "id": "bxkMChOVFuXG",
        "outputId": "8b5f4e40-007f-49af-dd8d-4160073a4646",
        "colab": {
          "base_uri": "https://localhost:8080/",
          "height": 34
        }
      },
      "source": [
        "# read dense net4\n",
        "train4Data = np.loadtxt(file_names[3],delimiter=',')[:,:-1]\n",
        "print(train4Data.shape)"
      ],
      "execution_count": null,
      "outputs": [
        {
          "output_type": "stream",
          "text": [
            "(6, 3)\n"
          ],
          "name": "stdout"
        }
      ]
    },
    {
      "cell_type": "code",
      "metadata": {
        "id": "gcSwGKs_GP1J",
        "outputId": "ae7c2b75-9106-4310-af8c-8aebf4770a6f",
        "colab": {
          "base_uri": "https://localhost:8080/",
          "height": 34
        }
      },
      "source": [
        "#concatenate all files\n",
        "train_one = np.concatenate((train1Data, train2Data), axis=1)\n",
        "train_two = np.concatenate((train3Data, train4Data), axis=1)\n",
        "trainX = np.concatenate((train_one, train_two), axis=1)\n",
        "print(trainX.shape)"
      ],
      "execution_count": null,
      "outputs": [
        {
          "output_type": "stream",
          "text": [
            "(6, 12)\n"
          ],
          "name": "stdout"
        }
      ]
    },
    {
      "cell_type": "code",
      "metadata": {
        "id": "DjifmUgPHHDt"
      },
      "source": [
        "model = svm.SVC(C=svm_c,kernel=svm_kernal,gamma=svm_gamma)"
      ],
      "execution_count": null,
      "outputs": []
    },
    {
      "cell_type": "code",
      "metadata": {
        "id": "If7oKWVMHMBL"
      },
      "source": [
        "model.fit(trainX,trainY)\n",
        "pickle.dump(model, open(clsFile, 'wb'))"
      ],
      "execution_count": null,
      "outputs": []
    },
    {
      "cell_type": "markdown",
      "metadata": {
        "id": "GW-j-fMNHyPo"
      },
      "source": [
        "# **Testing**"
      ]
    },
    {
      "cell_type": "code",
      "metadata": {
        "id": "s6KF5lgRHxW-",
        "outputId": "b3fd790f-6d16-43a9-9e22-32aa8e15eae6",
        "colab": {
          "base_uri": "https://localhost:8080/",
          "height": 34
        }
      },
      "source": [
        "# read dense net\n",
        "loadData = np.loadtxt(test_files[0],delimiter=',')\n",
        "testY = loadData[:,-1]\n",
        "test1Data = loadData[:,:-1]\n",
        "print(test1Data.shape,testY.shape)"
      ],
      "execution_count": null,
      "outputs": [
        {
          "output_type": "stream",
          "text": [
            "(6, 3) (6,)\n"
          ],
          "name": "stdout"
        }
      ]
    },
    {
      "cell_type": "code",
      "metadata": {
        "id": "1gD7CGFjIRyW",
        "outputId": "7d3723b5-9a00-4457-9852-456be71370ce",
        "colab": {
          "base_uri": "https://localhost:8080/",
          "height": 34
        }
      },
      "source": [
        "# read dense net2\n",
        "test2Data = np.loadtxt(test_files[1],delimiter=',')[:,:-1]\n",
        "print(test2Data.shape)"
      ],
      "execution_count": null,
      "outputs": [
        {
          "output_type": "stream",
          "text": [
            "(6, 3)\n"
          ],
          "name": "stdout"
        }
      ]
    },
    {
      "cell_type": "code",
      "metadata": {
        "id": "KT5XfZaLITQV",
        "outputId": "9ec748bc-ba3a-48f7-90da-256b1d06f5f0",
        "colab": {
          "base_uri": "https://localhost:8080/",
          "height": 34
        }
      },
      "source": [
        "# read dense net3\n",
        "test3Data = np.loadtxt(test_files[2],delimiter=',')[:,:-1]\n",
        "print(test3Data.shape)"
      ],
      "execution_count": null,
      "outputs": [
        {
          "output_type": "stream",
          "text": [
            "(6, 3)\n"
          ],
          "name": "stdout"
        }
      ]
    },
    {
      "cell_type": "code",
      "metadata": {
        "id": "875KLo_6IU82",
        "outputId": "e1f01c3c-4290-41c5-fff3-e554a5fa698b",
        "colab": {
          "base_uri": "https://localhost:8080/",
          "height": 34
        }
      },
      "source": [
        "# read dense net4\n",
        "test4Data = np.loadtxt(test_files[3],delimiter=',')[:,:-1]\n",
        "print(test4Data.shape)"
      ],
      "execution_count": null,
      "outputs": [
        {
          "output_type": "stream",
          "text": [
            "(6, 3)\n"
          ],
          "name": "stdout"
        }
      ]
    },
    {
      "cell_type": "code",
      "metadata": {
        "id": "428nuw-VIibP",
        "outputId": "320f83eb-2f6b-4842-bc81-39f55e151e42",
        "colab": {
          "base_uri": "https://localhost:8080/",
          "height": 34
        }
      },
      "source": [
        "#concatenate all files\n",
        "test_one = np.concatenate((test1Data, test2Data), axis=1)\n",
        "test_two = np.concatenate((test3Data, test4Data), axis=1)\n",
        "testX = np.concatenate((test_one, test_two), axis=1)\n",
        "print(testX.shape)"
      ],
      "execution_count": null,
      "outputs": [
        {
          "output_type": "stream",
          "text": [
            "(6, 12)\n"
          ],
          "name": "stdout"
        }
      ]
    },
    {
      "cell_type": "code",
      "metadata": {
        "id": "yKclfMXeI7U5"
      },
      "source": [
        "model = pickle.load(open(clsFile, 'rb'))"
      ],
      "execution_count": null,
      "outputs": []
    },
    {
      "cell_type": "code",
      "metadata": {
        "id": "hvOfjAz3JDPG"
      },
      "source": [
        "acc = model.score(testX,testY)"
      ],
      "execution_count": null,
      "outputs": []
    },
    {
      "cell_type": "code",
      "metadata": {
        "id": "tuHgF-bzJG49",
        "outputId": "93451a12-bc13-4664-d3ac-082223e36975",
        "colab": {
          "base_uri": "https://localhost:8080/",
          "height": 34
        }
      },
      "source": [
        "print(acc)"
      ],
      "execution_count": null,
      "outputs": [
        {
          "output_type": "stream",
          "text": [
            "0.3333333333333333\n"
          ],
          "name": "stdout"
        }
      ]
    },
    {
      "cell_type": "code",
      "metadata": {
        "id": "UrnZ8_ZtW1Jy",
        "outputId": "0719dddb-5c28-4f7c-d63e-3704054f7d63",
        "colab": {
          "base_uri": "https://localhost:8080/",
          "height": 34
        }
      },
      "source": [
        "y_pred = model.predict(testX)\n",
        "#print(y_pred)"
      ],
      "execution_count": null,
      "outputs": [
        {
          "output_type": "stream",
          "text": [
            "[1. 2. 2. 1. 2. 1.]\n"
          ],
          "name": "stdout"
        }
      ]
    },
    {
      "cell_type": "code",
      "metadata": {
        "id": "aWTKSzDHWsxZ",
        "outputId": "b15864f3-922e-43fc-da74-5e2c5d510431",
        "colab": {
          "base_uri": "https://localhost:8080/",
          "height": 449
        }
      },
      "source": [
        "cm = confusion_matrix(testY, y_pred)\n",
        "df_cm = pd.DataFrame(cm, index = [i for i in \"012\"],\n",
        "                  columns = [i for i in \"012\"])\n",
        "plt.figure(figsize = (10,7))\n",
        "sn.heatmap(df_cm, annot=True,linewidths=.5)"
      ],
      "execution_count": null,
      "outputs": [
        {
          "output_type": "execute_result",
          "data": {
            "text/plain": [
              "<matplotlib.axes._subplots.AxesSubplot at 0x7f32d93a0be0>"
            ]
          },
          "metadata": {
            "tags": []
          },
          "execution_count": 71
        },
        {
          "output_type": "display_data",
          "data": {
            "image/png": "[encoded data removed]",
            "text/plain": [
              "<Figure size 720x504 with 2 Axes>"
            ]
          },
          "metadata": {
            "tags": [],
            "needs_background": "light"
          }
        }
      ]
    }
  ]
}