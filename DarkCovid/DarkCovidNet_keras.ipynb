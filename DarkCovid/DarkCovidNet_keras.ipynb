{
  "nbformat": 4,
  "nbformat_minor": 0,
  "metadata": {
    "colab": {
      "name": "DarkCovidNet-keras.ipynb",
      "provenance": [],
      "collapsed_sections": []
    },
    "kernelspec": {
      "name": "python3",
      "display_name": "Python 3"
    },
    "accelerator": "GPU"
  },
  "cells": [
    {
      "cell_type": "code",
      "metadata": {
        "id": "ZIn2UbR_XZK4"
      },
      "source": [
        "# import shutil\n",
        "#!cp -R '/content/drive/My Drive/COVID-19/Dataset_2' '/content/'"
      ],
      "execution_count": 115,
      "outputs": []
    },
    {
      "cell_type": "code",
      "metadata": {
        "id": "vR2SNGba2mtT"
      },
      "source": [
        "#mv '/content/X-Ray Image DataSet' '/content/dataset-2'"
      ],
      "execution_count": 116,
      "outputs": []
    },
    {
      "cell_type": "code",
      "metadata": {
        "id": "E-ropNURZ4OM",
        "outputId": "20a71362-9bcb-4de3-cbf1-5553c556e2ea",
        "colab": {
          "base_uri": "https://localhost:8080/",
          "height": 154
        }
      },
      "source": [
        "'''import os\n",
        "ds_path = '/content/dataset-2'\n",
        "cat_list = ['No_findings', 'Pneumonia']\n",
        "for cat in cat_list:\n",
        "    cat_path = os.path.join(ds_path, cat)\n",
        "    file_count = len(os.listdir(cat_path))\n",
        "    print(file_count)\n",
        "    train_count = int(0.7 * file_count)\n",
        "    file_list = os.listdir(cat_path)\n",
        "    train_list = file_list[:train_count]\n",
        "    val_list = file_list[train_count:]\n",
        "    for train_file in train_list:\n",
        "        src_path = os.path.join(cat_path, train_file)\n",
        "        dest_path = os.path.join('/content/drive/My Drive/COVID-19/X-Ray Image DataSet/train', cat)\n",
        "        shutil.move(src_path, dest_path)\n",
        "    for val_file in val_list:\n",
        "        src_path = os.path.join(cat_path, val_file)\n",
        "        dest_path = os.path.join('/content/drive/My Drive/COVID-19/X-Ray Image DataSet/val', cat)\n",
        "        shutil.move(src_path, dest_path)\n",
        "\n",
        "ds_path = '/content/drive/My Drive/COVID-19/Dataset_2/Covid-19'\n",
        "cat_list = ['Covid-19', 'No_findings', 'Pneumonia']\n",
        "# print(os.listdir())\n",
        "for cat in cat_list:\n",
        "    print(len(os.path.join(ds_path, cat)))\n",
        "    # file'''"
      ],
      "execution_count": 117,
      "outputs": [
        {
          "output_type": "execute_result",
          "data": {
            "application/vnd.google.colaboratory.intrinsic+json": {
              "type": "string"
            },
            "text/plain": [
              "\"import os\\nds_path = '/content/dataset-2'\\ncat_list = ['No_findings', 'Pneumonia']\\nfor cat in cat_list:\\n    cat_path = os.path.join(ds_path, cat)\\n    file_count = len(os.listdir(cat_path))\\n    print(file_count)\\n    train_count = int(0.7 * file_count)\\n    file_list = os.listdir(cat_path)\\n    train_list = file_list[:train_count]\\n    val_list = file_list[train_count:]\\n    for train_file in train_list:\\n        src_path = os.path.join(cat_path, train_file)\\n        dest_path = os.path.join('/content/drive/My Drive/COVID-19/X-Ray Image DataSet/train', cat)\\n        shutil.move(src_path, dest_path)\\n    for val_file in val_list:\\n        src_path = os.path.join(cat_path, val_file)\\n        dest_path = os.path.join('/content/drive/My Drive/COVID-19/X-Ray Image DataSet/val', cat)\\n        shutil.move(src_path, dest_path)\\n\\nds_path = '/content/drive/My Drive/COVID-19/Dataset_2/Covid-19'\\ncat_list = ['Covid-19', 'No_findings', 'Pneumonia']\\n# print(os.listdir())\\nfor cat in cat_list:\\n    print(len(os.path.join(ds_path, cat)))\\n    # file\""
            ]
          },
          "metadata": {
            "tags": []
          },
          "execution_count": 117
        }
      ]
    },
    {
      "cell_type": "code",
      "metadata": {
        "id": "YJUXjkZeWY-5"
      },
      "source": [
        "%matplotlib inline"
      ],
      "execution_count": 118,
      "outputs": []
    },
    {
      "cell_type": "code",
      "metadata": {
        "id": "YlLelPr4WlJf"
      },
      "source": [
        "import tensorflow as tf\n",
        "from tensorflow.keras.models import Sequential\n",
        "from tensorflow.keras.layers import Dense, Conv2D, Conv2DTranspose, Flatten, Dropout, MaxPooling2D, BatchNormalization, LeakyReLU, Input\n",
        "from tensorflow.keras.preprocessing.image import ImageDataGenerator, img_to_array, load_img\n",
        "from tensorflow.keras.losses import CategoricalCrossentropy\n",
        "from tensorflow.keras.optimizers import Adam\n",
        "import os\n",
        "import numpy as np\n",
        "import shutil\n",
        "import matplotlib.pyplot as plt"
      ],
      "execution_count": 1,
      "outputs": []
    },
    {
      "cell_type": "code",
      "metadata": {
        "id": "3MklHpzRkl-U"
      },
      "source": [
        "bs = 32\n",
        "no_epochs = 1\n",
        "img_height = 224\n",
        "img_width = 224\n",
        "train_dir = '/content/Dataset_2/train'\n",
        "val_dir = '/content/Dataset_2/val'"
      ],
      "execution_count": 2,
      "outputs": []
    },
    {
      "cell_type": "code",
      "metadata": {
        "id": "tPITIQHB4ntZ"
      },
      "source": [
        "train_data_generator = ImageDataGenerator(\n",
        "    rescale = 1./255,\n",
        "    width_shift_range = 0.15,\n",
        "    height_shift_range = 0.15,\n",
        "    horizontal_flip=True,\n",
        "    zoom_range=0.3\n",
        ")"
      ],
      "execution_count": 173,
      "outputs": []
    },
    {
      "cell_type": "code",
      "metadata": {
        "id": "bjB0ucHH5WvB"
      },
      "source": [
        "validation_data_generator = ImageDataGenerator(\n",
        "    rescale=1./255\n",
        ")"
      ],
      "execution_count": 174,
      "outputs": []
    },
    {
      "cell_type": "code",
      "metadata": {
        "id": "VmK2xDSn6yIf",
        "outputId": "f9fa2187-1bd6-4ed3-d8ce-62dd385124c5",
        "colab": {
          "base_uri": "https://localhost:8080/",
          "height": 34
        }
      },
      "source": [
        "train_data = train_data_generator.flow_from_directory(\n",
        "    batch_size=bs,\n",
        "    directory=train_dir,\n",
        "    shuffle=True,\n",
        "    target_size=(img_height, img_width),\n",
        "    class_mode='categorical'\n",
        ")"
      ],
      "execution_count": 175,
      "outputs": [
        {
          "output_type": "stream",
          "text": [
            "Found 652 images belonging to 3 classes.\n"
          ],
          "name": "stdout"
        }
      ]
    },
    {
      "cell_type": "code",
      "metadata": {
        "id": "CflVU01_8eE1",
        "outputId": "0b41a766-8491-4c26-f6af-9b0b9921c288",
        "colab": {
          "base_uri": "https://localhost:8080/",
          "height": 34
        }
      },
      "source": [
        "val_data = validation_data_generator.flow_from_directory(\n",
        "    batch_size=bs,\n",
        "    directory=val_dir,\n",
        "    shuffle=True,\n",
        "    target_size=(img_height, img_width),\n",
        "    class_mode='categorical'\n",
        ")"
      ],
      "execution_count": 176,
      "outputs": [
        {
          "output_type": "stream",
          "text": [
            "Found 288 images belonging to 3 classes.\n"
          ],
          "name": "stdout"
        }
      ]
    },
    {
      "cell_type": "code",
      "metadata": {
        "id": "TUdxibxB9y0u"
      },
      "source": [
        "def conv_block(out_channels, filter_dim=3, stride=1):\n",
        "    # for_pad = lambda s: s if s > 2 else 3\n",
        "    block = Sequential()\n",
        "    '''if filter_dim == 1:\n",
        "      block.add(Conv2DTranspose(out_channels,3, strides=(1,1), padding='valid', activation=None))\n",
        "    else:\n",
        "      block.add(Conv2D(out_channels, filter_dim, strides=(1,1), padding='same', activation=None))'''\n",
        "    block.add(Conv2D(out_channels, filter_dim, strides=(1,1), padding='same', activation=None))\n",
        "    block.add(BatchNormalization())\n",
        "    block.add(LeakyReLU(alpha=0.1))\n",
        "    return block"
      ],
      "execution_count": 40,
      "outputs": []
    },
    {
      "cell_type": "code",
      "metadata": {
        "id": "QD7d1--eEnn4"
      },
      "source": [
        "def triple_conv(out_channels, in_channels):\n",
        "    block = Sequential()\n",
        "    block.add(conv_block(out_channels, 3))\n",
        "\n",
        "    block.add(conv_block(in_channels, filter_dim=1))\n",
        "    '''block.add(Conv2DTranspose(in_channels,3, strides=(1,1), padding='valid', activation=None))\n",
        "    block.add(BatchNormalization())\n",
        "    block.add(LeakyReLU(alpha=0.1))'''\n",
        "\n",
        "    block.add(conv_block(out_channels, 3))\n",
        "    return block"
      ],
      "execution_count": 41,
      "outputs": []
    },
    {
      "cell_type": "code",
      "metadata": {
        "id": "HwnftaENCiLS"
      },
      "source": [
        "model = Sequential()\n",
        "model.add(Input(shape=(img_height, img_width, 3)))\n",
        "model.add(conv_block(8, 3))\n",
        "model.add(MaxPooling2D(pool_size=(2,2), strides=2))\n",
        "model.add(conv_block(16, 3))\n",
        "model.add(MaxPooling2D())\n",
        "model.add(triple_conv(32, 16))\n",
        "model.add(MaxPooling2D(pool_size=(2,2), strides=2))\n",
        "model.add(triple_conv(64, 32))\n",
        "model.add(MaxPooling2D(pool_size=(2,2), strides=2))\n",
        "model.add(triple_conv(128, 64))\n",
        "model.add(MaxPooling2D(pool_size=(2,2), strides=2))\n",
        "model.add(triple_conv(256, 128))\n",
        "model.add(conv_block(128, filter_dim=1))\n",
        "model.add(conv_block(256, 3))\n",
        "model.add(conv_block(3, 3))\n",
        "model.add(Flatten())\n",
        "#model.add(Dense(192))\n",
        "model.add(Dense(3))"
      ],
      "execution_count": 42,
      "outputs": []
    },
    {
      "cell_type": "code",
      "metadata": {
        "id": "bG39zy9RJ1zY"
      },
      "source": [
        "opt = Adam(learning_rate=3e-5)\n",
        "model.compile(optimizer=opt, loss=CategoricalCrossentropy(from_logits=True), metrics=['accuracy'])"
      ],
      "execution_count": 43,
      "outputs": []
    },
    {
      "cell_type": "code",
      "metadata": {
        "id": "ZG3sHRGBEldX",
        "outputId": "92e02f36-898f-4808-bec8-994c1a7b749e",
        "colab": {
          "base_uri": "https://localhost:8080/",
          "height": 697
        }
      },
      "source": [
        "model.summary()"
      ],
      "execution_count": 44,
      "outputs": [
        {
          "output_type": "stream",
          "text": [
            "Model: \"sequential_22\"\n",
            "_________________________________________________________________\n",
            "Layer (type)                 Output Shape              Param #   \n",
            "=================================================================\n",
            "sequential_23 (Sequential)   (None, 224, 224, 8)       256       \n",
            "_________________________________________________________________\n",
            "max_pooling2d_5 (MaxPooling2 (None, 112, 112, 8)       0         \n",
            "_________________________________________________________________\n",
            "sequential_24 (Sequential)   (None, 112, 112, 16)      1232      \n",
            "_________________________________________________________________\n",
            "max_pooling2d_6 (MaxPooling2 (None, 56, 56, 16)        0         \n",
            "_________________________________________________________________\n",
            "sequential_25 (Sequential)   (None, 56, 56, 32)        10128     \n",
            "_________________________________________________________________\n",
            "max_pooling2d_7 (MaxPooling2 (None, 28, 28, 32)        0         \n",
            "_________________________________________________________________\n",
            "sequential_29 (Sequential)   (None, 28, 28, 64)        39712     \n",
            "_________________________________________________________________\n",
            "max_pooling2d_8 (MaxPooling2 (None, 14, 14, 64)        0         \n",
            "_________________________________________________________________\n",
            "sequential_33 (Sequential)   (None, 14, 14, 128)       157248    \n",
            "_________________________________________________________________\n",
            "max_pooling2d_9 (MaxPooling2 (None, 7, 7, 128)         0         \n",
            "_________________________________________________________________\n",
            "sequential_37 (Sequential)   (None, 7, 7, 256)         625792    \n",
            "_________________________________________________________________\n",
            "sequential_41 (Sequential)   (None, 7, 7, 128)         33408     \n",
            "_________________________________________________________________\n",
            "sequential_42 (Sequential)   (None, 7, 7, 256)         296192    \n",
            "_________________________________________________________________\n",
            "sequential_43 (Sequential)   (None, 7, 7, 3)           6927      \n",
            "_________________________________________________________________\n",
            "flatten_1 (Flatten)          (None, 147)               0         \n",
            "_________________________________________________________________\n",
            "dense_1 (Dense)              (None, 3)                 444       \n",
            "=================================================================\n",
            "Total params: 1,171,339\n",
            "Trainable params: 1,168,117\n",
            "Non-trainable params: 3,222\n",
            "_________________________________________________________________\n"
          ],
          "name": "stdout"
        }
      ]
    },
    {
      "cell_type": "code",
      "metadata": {
        "id": "3QyfJg6qfR0D"
      },
      "source": [
        "from keras.callbacks import ModelCheckpoint\n",
        "mcp_save = ModelCheckpoint('CovidModel.h5', save_best_only=True, monitor='val_loss', mode='min')"
      ],
      "execution_count": 130,
      "outputs": []
    },
    {
      "cell_type": "code",
      "metadata": {
        "id": "a7Gx8ChofViV"
      },
      "source": [
        "model.load_weights('CovidModel.h5')\n",
        "no_epochs = 60"
      ],
      "execution_count": 131,
      "outputs": []
    },
    {
      "cell_type": "code",
      "metadata": {
        "id": "HUwX9BKuesh4"
      },
      "source": [
        "history = model.fit(\n",
        "    train_data,\n",
        "    epochs=no_epochs,\n",
        "    validation_data=val_data,\n",
        "    steps_per_epoch=None,\n",
        "    validation_steps=None,\n",
        "    callbacks=[mcp_save]\n",
        ")"
      ],
      "execution_count": null,
      "outputs": []
    },
    {
      "cell_type": "code",
      "metadata": {
        "id": "2CA4XliZ_baO"
      },
      "source": [
        "#print(history.history.keys())"
      ],
      "execution_count": 133,
      "outputs": []
    },
    {
      "cell_type": "code",
      "metadata": {
        "id": "EcaxUEvfG7W-",
        "outputId": "0d7a668d-8003-4c4f-ea78-321317be1cd1",
        "colab": {
          "base_uri": "https://localhost:8080/",
          "height": 71
        }
      },
      "source": [
        "print(history.history['accuracy'])\n",
        "print(history.history['val_accuracy'])"
      ],
      "execution_count": 134,
      "outputs": [
        {
          "output_type": "stream",
          "text": [
            "[0.8220859169960022, 0.8481594920158386, 0.8619632124900818, 0.8619632124900818, 0.8788343667984009, 0.8865030407905579, 0.8711656332015991, 0.8680981397628784, 0.8880367875099182, 0.8711656332015991, 0.8773006200790405, 0.8680981397628784, 0.8849693536758423, 0.8726993799209595, 0.8726993799209595, 0.8773006200790405, 0.8650306463241577, 0.8865030407905579, 0.8834356069564819, 0.8834356069564819, 0.8865030407905579, 0.8788343667984009, 0.8880367875099182, 0.8819018602371216, 0.8880367875099182, 0.8987730145454407, 0.900306761264801, 0.9018405079841614, 0.9049080014228821, 0.8573619723320007, 0.8680981397628784, 0.9018405079841614, 0.9064416885375977, 0.8911042809486389, 0.8941717743873596, 0.900306761264801, 0.9064416885375977, 0.907975435256958, 0.8926380276679993, 0.9110429286956787, 0.8865030407905579, 0.8972392678260803, 0.9064416885375977, 0.8849693536758423, 0.9049080014228821, 0.907975435256958, 0.900306761264801, 0.9064416885375977, 0.8941717743873596, 0.89570552110672, 0.9033742547035217, 0.8941717743873596, 0.9095091819763184, 0.8895705342292786, 0.8941717743873596, 0.9141104221343994, 0.9110429286956787, 0.9141104221343994, 0.900306761264801, 0.907975435256958]\n",
            "[0.8194444179534912, 0.7847222089767456, 0.8055555820465088, 0.8263888955116272, 0.8090277910232544, 0.8229166865348816, 0.8611111044883728, 0.8472222089767456, 0.8333333134651184, 0.8472222089767456, 0.7604166865348816, 0.8541666865348816, 0.8055555820465088, 0.8020833134651184, 0.7743055820465088, 0.8020833134651184, 0.7361111044883728, 0.8020833134651184, 0.7256944179534912, 0.8229166865348816, 0.8194444179534912, 0.8125, 0.7743055820465088, 0.7847222089767456, 0.7847222089767456, 0.7638888955116272, 0.7395833134651184, 0.7847222089767456, 0.6736111044883728, 0.8194444179534912, 0.7118055820465088, 0.7986111044883728, 0.7395833134651184, 0.7986111044883728, 0.7256944179534912, 0.7465277910232544, 0.8194444179534912, 0.8125, 0.8333333134651184, 0.8541666865348816, 0.8055555820465088, 0.7743055820465088, 0.7881944179534912, 0.7951388955116272, 0.7986111044883728, 0.7673611044883728, 0.7881944179534912, 0.7881944179534912, 0.7986111044883728, 0.8576388955116272, 0.7222222089767456, 0.78125, 0.7638888955116272, 0.7777777910232544, 0.8368055820465088, 0.8333333134651184, 0.8020833134651184, 0.7986111044883728, 0.8194444179534912, 0.8090277910232544]\n"
          ],
          "name": "stdout"
        }
      ]
    },
    {
      "cell_type": "code",
      "metadata": {
        "id": "3HhTtr2JLDyx",
        "outputId": "b1415ada-d033-4d9b-8426-03e82e807104",
        "colab": {
          "base_uri": "https://localhost:8080/",
          "height": 51
        }
      },
      "source": [
        "print(max(history.history['val_accuracy']))\n",
        "print(min(history.history['val_loss']))"
      ],
      "execution_count": 135,
      "outputs": [
        {
          "output_type": "stream",
          "text": [
            "0.8611111044883728\n",
            "0.35889944434165955\n"
          ],
          "name": "stdout"
        }
      ]
    },
    {
      "cell_type": "code",
      "metadata": {
        "id": "mAeQqo4DSljq",
        "outputId": "5939d4db-5426-425d-c782-b1981e5b15c9",
        "colab": {
          "base_uri": "https://localhost:8080/",
          "height": 295
        }
      },
      "source": [
        "a = [0.47239264845848083, 0.6012269854545593, 0.6288343667984009, 0.6656441688537598, 0.6748466491699219, 0.7147239446640015, 0.7269938588142395, 0.7254601120948792, 0.7254601120948792, 0.7638036608695984, 0.7576687335968018, 0.7331288456916809, 0.7515337467193604, 0.7607361674308777, 0.7607361674308777, 0.7898772954940796, 0.7730061411857605, 0.7852760553359985, 0.7975460290908813, 0.7791411280632019, 0.7929447889328003, 0.8144171833992004, 0.8098159432411194, 0.8205521702766418, 0.8128834366798401, 0.8205521702766418, 0.8021472096443176, 0.796012282371521, 0.8144171833992004, 0.8144171833992004, 0.8435583114624023, 0.849693238735199, 0.8159509301185608, 0.8527607321739197, 0.8619632124900818, 0.8435583114624023, 0.8282208442687988, 0.8374233245849609, 0.8435583114624023, 0.8266870975494385]\n",
        "a.extend(history.history['accuracy'])\n",
        "\n",
        "b = [0.2638888955116272, 0.2638888955116272, 0.2638888955116272, 0.2638888955116272, 0.2638888955116272, 0.2638888955116272, 0.2638888955116272, 0.2638888955116272, 0.3611111044883728, 0.3020833432674408, 0.3611111044883728, 0.4479166567325592, 0.4965277910232544, 0.375, 0.5173611044883728, 0.5208333134651184, 0.5694444179534912, 0.6076388955116272, 0.53125, 0.4791666567325592, 0.71875, 0.6770833134651184, 0.6145833134651184, 0.6284722089767456, 0.7013888955116272, 0.6145833134651184, 0.8298611044883728, 0.6909722089767456, 0.6493055820465088, 0.7777777910232544, 0.5520833134651184, 0.6319444179534912, 0.6319444179534912, 0.7465277910232544, 0.6597222089767456, 0.7604166865348816, 0.8194444179534912, 0.65625, 0.6458333134651184, 0.4583333432674408]\n",
        "b.extend(history.history['val_accuracy'])\n",
        "\n",
        "plt.plot(a)\n",
        "plt.plot(b)\n",
        "plt.title('model accuracy')\n",
        "plt.ylabel('accuracy')\n",
        "plt.xlabel('epoch')\n",
        "plt.legend(['train', 'vaidation'], loc='upper left')\n",
        "plt.show()"
      ],
      "execution_count": 142,
      "outputs": [
        {
          "output_type": "display_data",
          "data": {
            "image/png": "[encoded data removed]",
            "text/plain": [
              "<Figure size 432x288 with 1 Axes>"
            ]
          },
          "metadata": {
            "tags": [],
            "needs_background": "light"
          }
        }
      ]
    },
    {
      "cell_type": "code",
      "metadata": {
        "id": "cW7b2Hdn_ffh",
        "outputId": "cd496f2e-a3cf-43fd-b1a8-bd1704dd458c",
        "colab": {
          "base_uri": "https://localhost:8080/",
          "height": 295
        }
      },
      "source": [
        "plt.plot(history.history['accuracy'])\n",
        "plt.plot(history.history['val_accuracy'])\n",
        "plt.title('model accuracy')\n",
        "plt.ylabel('accuracy')\n",
        "plt.xlabel('epoch')\n",
        "plt.legend(['train', 'vaidation'], loc='upper left')\n",
        "plt.show()"
      ],
      "execution_count": 137,
      "outputs": [
        {
          "output_type": "display_data",
          "data": {
            "image/png": "[encoded data removed]",
            "text/plain": [
              "<Figure size 432x288 with 1 Axes>"
            ]
          },
          "metadata": {
            "tags": [],
            "needs_background": "light"
          }
        }
      ]
    },
    {
      "cell_type": "code",
      "metadata": {
        "id": "i4Rm8kZe_uqD",
        "outputId": "fc320bd3-535a-427b-c205-c1e1051ee4fa",
        "colab": {
          "base_uri": "https://localhost:8080/",
          "height": 295
        }
      },
      "source": [
        "# summarize history for loss\n",
        "plt.plot(history.history['loss'])\n",
        "plt.plot(history.history['val_loss'])\n",
        "plt.title('model loss')\n",
        "plt.ylabel('loss')\n",
        "plt.xlabel('epoch')\n",
        "plt.legend(['train', 'validation'], loc='upper left')\n",
        "plt.show()"
      ],
      "execution_count": 138,
      "outputs": [
        {
          "output_type": "display_data",
          "data": {
            "image/png": "[encoded data removed]",
            "text/plain": [
              "<Figure size 432x288 with 1 Axes>"
            ]
          },
          "metadata": {
            "tags": [],
            "needs_background": "light"
          }
        }
      ]
    },
    {
      "cell_type": "code",
      "metadata": {
        "id": "8_6BirWfr1FU"
      },
      "source": [
        "# !cp CovidModel.h5 '/content/drive/My Drive/COVID-19/'"
      ],
      "execution_count": 139,
      "outputs": []
    },
    {
      "cell_type": "code",
      "metadata": {
        "id": "7tvMgXDUG7_H"
      },
      "source": [
        "#!cp '/content/drive/My Drive/COVID-19/CovidModel_1.h5' '/content/'"
      ],
      "execution_count": 140,
      "outputs": []
    },
    {
      "cell_type": "code",
      "metadata": {
        "id": "NN_JIsiTO6LW"
      },
      "source": [
        "#print(\"temp\")"
      ],
      "execution_count": 141,
      "outputs": []
    },
    {
      "cell_type": "markdown",
      "metadata": {
        "id": "kqiFh1cDjt6p"
      },
      "source": [
        "# **Recall**"
      ]
    },
    {
      "cell_type": "code",
      "metadata": {
        "id": "ldTARRXenJbX"
      },
      "source": [
        "validation_data_generator = ImageDataGenerator(\n",
        "    rescale=1./255\n",
        ")"
      ],
      "execution_count": 45,
      "outputs": []
    },
    {
      "cell_type": "code",
      "metadata": {
        "id": "63yOKfdLjwz4",
        "outputId": "db260f28-cd26-4674-9874-bf68f8993056",
        "colab": {
          "base_uri": "https://localhost:8080/",
          "height": 34
        }
      },
      "source": [
        "val_data = validation_data_generator.flow_from_directory(\n",
        "    batch_size=1,\n",
        "    directory=val_dir,\n",
        "    shuffle=False,\n",
        "    target_size=(img_height, img_width),\n",
        "    class_mode='categorical'\n",
        ")\n",
        "idx2label_dict = {val_data.class_indices[k]: k for k in val_data.class_indices}"
      ],
      "execution_count": 46,
      "outputs": [
        {
          "output_type": "stream",
          "text": [
            "Found 288 images belonging to 3 classes.\n"
          ],
          "name": "stdout"
        }
      ]
    },
    {
      "cell_type": "code",
      "metadata": {
        "id": "ZoCtQghxlCgD",
        "outputId": "97043e41-ac84-43b2-8553-192bc5dc0a99",
        "colab": {
          "base_uri": "https://localhost:8080/",
          "height": 34
        }
      },
      "source": [
        "model.load_weights('CovidModel.h5')\n",
        "y_pred = model.predict_classes(val_data)\n",
        "y_true = val_data.classes\n",
        "print(y_pred.shape,y_true.shape)"
      ],
      "execution_count": 47,
      "outputs": [
        {
          "output_type": "stream",
          "text": [
            "(288,) (288,)\n"
          ],
          "name": "stdout"
        }
      ]
    },
    {
      "cell_type": "code",
      "metadata": {
        "id": "IgnJMdBikEZZ"
      },
      "source": [
        "from sklearn.metrics import confusion_matrix\n",
        "import seaborn as sn\n",
        "import pandas as pd"
      ],
      "execution_count": 48,
      "outputs": []
    },
    {
      "cell_type": "code",
      "metadata": {
        "id": "Do0kCg7-kHgg"
      },
      "source": [
        "def get_key(mydict,val): \n",
        "    for key, value in mydict.items(): \n",
        "         if val == value: \n",
        "             return key "
      ],
      "execution_count": 49,
      "outputs": []
    },
    {
      "cell_type": "code",
      "metadata": {
        "id": "n6jMmDVgkJwg"
      },
      "source": [
        "def calReCall(y_true,y_pred,idx2label_dict,class_name):\n",
        "    cm = confusion_matrix(y_true, y_pred)\n",
        "    df_cm = pd.DataFrame(cm, index = [idx2label_dict[int(i)] for i in \"012\"],\n",
        "                  columns = [idx2label_dict[int(i)] for i in \"012\"])\n",
        "    plt.figure(figsize = (10,7))\n",
        "    sn.heatmap(df_cm, annot=True,linewidths=.5)\n",
        "    id = get_key(idx2label_dict,class_name)\n",
        "    out = np.sum(cm, axis=1)\n",
        "    return cm[id][id]/out[id]"
      ],
      "execution_count": 50,
      "outputs": []
    },
    {
      "cell_type": "code",
      "metadata": {
        "id": "Gvi5F8wckLoK",
        "outputId": "40d30fb7-45d0-4700-a4e0-21cd9c3e7182",
        "colab": {
          "base_uri": "https://localhost:8080/",
          "height": 446
        }
      },
      "source": [
        "recallVal = calReCall(y_true,y_pred,idx2label_dict,'Covid-19')\n",
        "print(\"Recall: \",recallVal)"
      ],
      "execution_count": 51,
      "outputs": [
        {
          "output_type": "stream",
          "text": [
            "Recall:  0.868421052631579\n"
          ],
          "name": "stdout"
        },
        {
          "output_type": "display_data",
          "data": {
            "image/png": "[encoded data removed]",
            "text/plain": [
              "<Figure size 720x504 with 2 Axes>"
            ]
          },
          "metadata": {
            "tags": [],
            "needs_background": "light"
          }
        }
      ]
    }
  ]
}