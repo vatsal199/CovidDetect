{
  "nbformat": 4,
  "nbformat_minor": 0,
  "metadata": {
    "kernelspec": {
      "display_name": "Python 3",
      "language": "python",
      "name": "python3"
    },
    "language_info": {
      "codemirror_mode": {
        "name": "ipython",
        "version": 3
      },
      "file_extension": ".py",
      "mimetype": "text/x-python",
      "name": "python",
      "nbconvert_exporter": "python",
      "pygments_lexer": "ipython3",
      "version": "3.6.10"
    },
    "colab": {
      "name": "PKNet.ipynb",
      "provenance": []
    },
    "accelerator": "GPU"
  },
  "cells": [
    {
      "cell_type": "code",
      "metadata": {
        "id": "CIpoMKF7S_G9"
      },
      "source": [
        "#!cp -R '/content/drive/My Drive/Dataset_2' '/content/'"
      ],
      "execution_count": 1,
      "outputs": []
    },
    {
      "cell_type": "code",
      "metadata": {
        "id": "UHNxYZUJP5IE",
        "outputId": "c7f9a7a5-a566-47e9-8c7d-ac0937dac3c4",
        "colab": {
          "base_uri": "https://localhost:8080/",
          "height": 34
        }
      },
      "source": [
        "from google.colab import drive\n",
        "drive.mount('/content/drive')"
      ],
      "execution_count": 18,
      "outputs": [
        {
          "output_type": "stream",
          "text": [
            "Drive already mounted at /content/drive; to attempt to forcibly remount, call drive.mount(\"/content/drive\", force_remount=True).\n"
          ],
          "name": "stdout"
        }
      ]
    },
    {
      "cell_type": "code",
      "metadata": {
        "id": "_ioTRJZyPK_D"
      },
      "source": [
        "batch_size = 32\n",
        "epochs = 100\n",
        "img_height = 224\n",
        "img_width = 224\n",
        "train_dir = '/content/drive/My Drive/Dataset_2/train'\n",
        "val_dir = '/content/drive/My Drive/Dataset_2/val'"
      ],
      "execution_count": 19,
      "outputs": []
    },
    {
      "cell_type": "code",
      "metadata": {
        "id": "uea6CHUPPK_L"
      },
      "source": [
        "from tensorflow.keras.preprocessing.image import ImageDataGenerator\n",
        "\n",
        "train_data_generator = ImageDataGenerator(\n",
        "    rescale = 1./255,\n",
        "    width_shift_range = 0.15,\n",
        "    height_shift_range = 0.15,\n",
        "    horizontal_flip=True,\n",
        "    zoom_range=0.3\n",
        ")"
      ],
      "execution_count": 20,
      "outputs": []
    },
    {
      "cell_type": "code",
      "metadata": {
        "id": "yEupm6_VPK_O"
      },
      "source": [
        "validation_data_generator = ImageDataGenerator(\n",
        "    rescale=1./255\n",
        ")"
      ],
      "execution_count": 21,
      "outputs": []
    },
    {
      "cell_type": "code",
      "metadata": {
        "id": "3n5-ZlPoPK_R",
        "outputId": "8507d2f7-f7ca-4f92-e925-1f0fbf81ee74",
        "colab": {
          "base_uri": "https://localhost:8080/",
          "height": 34
        }
      },
      "source": [
        "train_data = train_data_generator.flow_from_directory(\n",
        "    batch_size=batch_size,\n",
        "    directory=train_dir,\n",
        "    shuffle=True,\n",
        "    target_size=(img_height, img_width),\n",
        "    class_mode='categorical'\n",
        ")"
      ],
      "execution_count": 22,
      "outputs": [
        {
          "output_type": "stream",
          "text": [
            "Found 652 images belonging to 3 classes.\n"
          ],
          "name": "stdout"
        }
      ]
    },
    {
      "cell_type": "code",
      "metadata": {
        "id": "59o5mD1JPK_V",
        "outputId": "5f51ed7b-ed94-46f8-c94d-24d15f26257b",
        "colab": {
          "base_uri": "https://localhost:8080/",
          "height": 34
        }
      },
      "source": [
        "val_data = validation_data_generator.flow_from_directory(\n",
        "    batch_size=batch_size,\n",
        "    directory=val_dir,\n",
        "    shuffle=True,\n",
        "    target_size=(img_height, img_width),\n",
        "    class_mode='categorical'\n",
        ")"
      ],
      "execution_count": 23,
      "outputs": [
        {
          "output_type": "stream",
          "text": [
            "Found 288 images belonging to 3 classes.\n"
          ],
          "name": "stdout"
        }
      ]
    },
    {
      "cell_type": "code",
      "metadata": {
        "id": "k_nFxf-kPK_Z",
        "outputId": "0dc45c7d-2d75-49ea-c823-6df6dea6b1fa",
        "colab": {
          "base_uri": "https://localhost:8080/",
          "height": 1000
        }
      },
      "source": [
        "# importing libraries\n",
        "\n",
        "from keras.models import Sequential\n",
        "from keras.layers import Conv2D, MaxPool2D, Flatten, Dense, InputLayer, BatchNormalization, Dropout\n",
        "from keras.optimizers import SGD\n",
        "\n",
        "# build a sequential model\n",
        "\n",
        "model = Sequential()\n",
        "model.add(InputLayer(input_shape=(img_height, img_width, 3)))\n",
        "\n",
        "# 1st conv block\n",
        "\n",
        "model.add(Conv2D(8, (3, 3), activation='relu', strides=(1, 1), padding='same'))\n",
        "model.add(MaxPool2D(pool_size=(2, 2), padding='same'))\n",
        "model.add(BatchNormalization())\n",
        "\n",
        "# 2nd conv block\n",
        "\n",
        "model.add(Conv2D(16, (3, 3), activation='relu', strides=(1, 1), padding='same'))\n",
        "model.add(MaxPool2D(pool_size=(2, 2), padding='same'))\n",
        "model.add(BatchNormalization())\n",
        "\n",
        "# 3rd conv block\n",
        "\n",
        "model.add(Conv2D(32, (3, 3), activation='relu', strides=(1, 1), padding='same'))\n",
        "model.add(BatchNormalization())\n",
        "\n",
        "# 4th conv block\n",
        "\n",
        "model.add(Conv2D(16, (3, 3), activation='relu', strides=(1,1), padding='same'))\n",
        "model.add(BatchNormalization())\n",
        "\n",
        "# 5th conv block\n",
        "\n",
        "model.add(Conv2D(32, (3, 3), activation='relu', strides=(1,1), padding='same'))\n",
        "model.add(MaxPool2D(pool_size=(2, 2), padding='same'))\n",
        "model.add(BatchNormalization())\n",
        "\n",
        "# 6th conv block\n",
        "\n",
        "model.add(Conv2D(64, (3, 3), activation='relu', strides=(1,1), padding='same'))\n",
        "model.add(BatchNormalization())\n",
        "\n",
        "# 7th conv block\n",
        "\n",
        "model.add(Conv2D(32, (3, 3), activation='relu', strides=(1,1), padding='same'))\n",
        "model.add(BatchNormalization())\n",
        "\n",
        "# 8th conv block\n",
        "\n",
        "model.add(Conv2D(64, (3, 3), activation='relu', strides=(1,1), padding='same'))\n",
        "model.add(MaxPool2D(pool_size=(2, 2), padding='same'))\n",
        "model.add(BatchNormalization())\n",
        "\n",
        "# 9th conv block\n",
        "\n",
        "model.add(Conv2D(128, (3, 3), activation='relu', strides=(1,1), padding='same'))\n",
        "model.add(BatchNormalization())\n",
        "\n",
        "# 10th conv bock\n",
        "\n",
        "model.add(Conv2D(64, (3, 3), activation='relu', strides=(1,1), padding='same'))\n",
        "model.add(BatchNormalization())\n",
        "\n",
        "# ANN block\n",
        "\n",
        "model.add(Flatten())\n",
        "model.add(Dense(units=100, activation='relu'))\n",
        "model.add(Dense(units=100, activation='relu'))\n",
        "model.add(Dropout(0.25))\n",
        "\n",
        "# output layer\n",
        "\n",
        "model.add(Dense(units=3, activation='softmax'))\n",
        "\n",
        "\n",
        "# compile model\n",
        "\n",
        "opt = SGD(lr=0.0001)\n",
        "model.compile(loss='categorical_crossentropy', optimizer=opt, metrics=['accuracy'])\n",
        "\n",
        "# model summary\n",
        "\n",
        "model.summary()"
      ],
      "execution_count": 24,
      "outputs": [
        {
          "output_type": "stream",
          "text": [
            "Model: \"sequential_2\"\n",
            "_________________________________________________________________\n",
            "Layer (type)                 Output Shape              Param #   \n",
            "=================================================================\n",
            "conv2d_20 (Conv2D)           (None, 224, 224, 8)       224       \n",
            "_________________________________________________________________\n",
            "max_pooling2d_8 (MaxPooling2 (None, 112, 112, 8)       0         \n",
            "_________________________________________________________________\n",
            "batch_normalization_20 (Batc (None, 112, 112, 8)       32        \n",
            "_________________________________________________________________\n",
            "conv2d_21 (Conv2D)           (None, 112, 112, 16)      1168      \n",
            "_________________________________________________________________\n",
            "max_pooling2d_9 (MaxPooling2 (None, 56, 56, 16)        0         \n",
            "_________________________________________________________________\n",
            "batch_normalization_21 (Batc (None, 56, 56, 16)        64        \n",
            "_________________________________________________________________\n",
            "conv2d_22 (Conv2D)           (None, 56, 56, 32)        4640      \n",
            "_________________________________________________________________\n",
            "batch_normalization_22 (Batc (None, 56, 56, 32)        128       \n",
            "_________________________________________________________________\n",
            "conv2d_23 (Conv2D)           (None, 56, 56, 16)        4624      \n",
            "_________________________________________________________________\n",
            "batch_normalization_23 (Batc (None, 56, 56, 16)        64        \n",
            "_________________________________________________________________\n",
            "conv2d_24 (Conv2D)           (None, 56, 56, 32)        4640      \n",
            "_________________________________________________________________\n",
            "max_pooling2d_10 (MaxPooling (None, 28, 28, 32)        0         \n",
            "_________________________________________________________________\n",
            "batch_normalization_24 (Batc (None, 28, 28, 32)        128       \n",
            "_________________________________________________________________\n",
            "conv2d_25 (Conv2D)           (None, 28, 28, 64)        18496     \n",
            "_________________________________________________________________\n",
            "batch_normalization_25 (Batc (None, 28, 28, 64)        256       \n",
            "_________________________________________________________________\n",
            "conv2d_26 (Conv2D)           (None, 28, 28, 32)        18464     \n",
            "_________________________________________________________________\n",
            "batch_normalization_26 (Batc (None, 28, 28, 32)        128       \n",
            "_________________________________________________________________\n",
            "conv2d_27 (Conv2D)           (None, 28, 28, 64)        18496     \n",
            "_________________________________________________________________\n",
            "max_pooling2d_11 (MaxPooling (None, 14, 14, 64)        0         \n",
            "_________________________________________________________________\n",
            "batch_normalization_27 (Batc (None, 14, 14, 64)        256       \n",
            "_________________________________________________________________\n",
            "conv2d_28 (Conv2D)           (None, 14, 14, 128)       73856     \n",
            "_________________________________________________________________\n",
            "batch_normalization_28 (Batc (None, 14, 14, 128)       512       \n",
            "_________________________________________________________________\n",
            "conv2d_29 (Conv2D)           (None, 14, 14, 64)        73792     \n",
            "_________________________________________________________________\n",
            "batch_normalization_29 (Batc (None, 14, 14, 64)        256       \n",
            "_________________________________________________________________\n",
            "flatten_2 (Flatten)          (None, 12544)             0         \n",
            "_________________________________________________________________\n",
            "dense_6 (Dense)              (None, 100)               1254500   \n",
            "_________________________________________________________________\n",
            "dense_7 (Dense)              (None, 100)               10100     \n",
            "_________________________________________________________________\n",
            "dropout_2 (Dropout)          (None, 100)               0         \n",
            "_________________________________________________________________\n",
            "dense_8 (Dense)              (None, 3)                 303       \n",
            "=================================================================\n",
            "Total params: 1,485,127\n",
            "Trainable params: 1,484,215\n",
            "Non-trainable params: 912\n",
            "_________________________________________________________________\n"
          ],
          "name": "stdout"
        }
      ]
    },
    {
      "cell_type": "code",
      "metadata": {
        "id": "WqYe9oZKPK_c"
      },
      "source": [
        "from keras.callbacks import ModelCheckpoint\n",
        "\n",
        "mcp_save = ModelCheckpoint('PKModel2.h5', save_best_only=True, monitor='val_loss', mode='min')"
      ],
      "execution_count": 25,
      "outputs": []
    },
    {
      "cell_type": "code",
      "metadata": {
        "id": "VD4gQ5SHPK_g",
        "outputId": "c3d2587f-4411-4a8f-c40f-40dbad420a1f",
        "colab": {
          "base_uri": "https://localhost:8080/",
          "height": 1000
        }
      },
      "source": [
        "history = model.fit(\n",
        "    train_data,\n",
        "    epochs=epochs,\n",
        "    validation_data=val_data,\n",
        "    steps_per_epoch=None,\n",
        "    validation_steps=None,\n",
        "    callbacks=[mcp_save]\n",
        ")"
      ],
      "execution_count": 26,
      "outputs": [
        {
          "output_type": "stream",
          "text": [
            "Epoch 1/100\n",
            "21/21 [==============================] - 28s 1s/step - loss: 1.3236 - accuracy: 0.3589 - val_loss: 1.1065 - val_accuracy: 0.2639\n",
            "Epoch 2/100\n",
            "21/21 [==============================] - 27s 1s/step - loss: 1.2550 - accuracy: 0.3896 - val_loss: 1.1160 - val_accuracy: 0.2639\n",
            "Epoch 3/100\n",
            "21/21 [==============================] - 27s 1s/step - loss: 1.2458 - accuracy: 0.4064 - val_loss: 1.1244 - val_accuracy: 0.2639\n",
            "Epoch 4/100\n",
            "21/21 [==============================] - 27s 1s/step - loss: 1.2210 - accuracy: 0.4003 - val_loss: 1.1297 - val_accuracy: 0.2639\n",
            "Epoch 5/100\n",
            "21/21 [==============================] - 27s 1s/step - loss: 1.2135 - accuracy: 0.3957 - val_loss: 1.1357 - val_accuracy: 0.2639\n",
            "Epoch 6/100\n",
            "21/21 [==============================] - 27s 1s/step - loss: 1.2269 - accuracy: 0.3896 - val_loss: 1.1423 - val_accuracy: 0.2639\n",
            "Epoch 7/100\n",
            "21/21 [==============================] - 26s 1s/step - loss: 1.1642 - accuracy: 0.4202 - val_loss: 1.1498 - val_accuracy: 0.2639\n",
            "Epoch 8/100\n",
            "21/21 [==============================] - 25s 1s/step - loss: 1.1660 - accuracy: 0.4187 - val_loss: 1.1553 - val_accuracy: 0.2639\n",
            "Epoch 9/100\n",
            "21/21 [==============================] - 25s 1s/step - loss: 1.1562 - accuracy: 0.4310 - val_loss: 1.1514 - val_accuracy: 0.2639\n",
            "Epoch 10/100\n",
            "21/21 [==============================] - 25s 1s/step - loss: 1.1621 - accuracy: 0.4202 - val_loss: 1.1414 - val_accuracy: 0.2847\n",
            "Epoch 11/100\n",
            "21/21 [==============================] - 27s 1s/step - loss: 1.1506 - accuracy: 0.4202 - val_loss: 1.1346 - val_accuracy: 0.3194\n",
            "Epoch 12/100\n",
            "21/21 [==============================] - 27s 1s/step - loss: 1.1473 - accuracy: 0.4248 - val_loss: 1.1250 - val_accuracy: 0.3299\n",
            "Epoch 13/100\n",
            "21/21 [==============================] - 27s 1s/step - loss: 1.1413 - accuracy: 0.4248 - val_loss: 1.1240 - val_accuracy: 0.3368\n",
            "Epoch 14/100\n",
            "21/21 [==============================] - 27s 1s/step - loss: 1.1262 - accuracy: 0.4325 - val_loss: 1.1066 - val_accuracy: 0.3507\n",
            "Epoch 15/100\n",
            "21/21 [==============================] - 27s 1s/step - loss: 1.1239 - accuracy: 0.4479 - val_loss: 1.1192 - val_accuracy: 0.3576\n",
            "Epoch 16/100\n",
            "21/21 [==============================] - 27s 1s/step - loss: 1.0823 - accuracy: 0.4509 - val_loss: 1.1156 - val_accuracy: 0.3993\n",
            "Epoch 17/100\n",
            "21/21 [==============================] - 27s 1s/step - loss: 1.0646 - accuracy: 0.4617 - val_loss: 1.1116 - val_accuracy: 0.4028\n",
            "Epoch 18/100\n",
            "21/21 [==============================] - 27s 1s/step - loss: 1.0879 - accuracy: 0.4417 - val_loss: 1.1053 - val_accuracy: 0.4097\n",
            "Epoch 19/100\n",
            "21/21 [==============================] - 27s 1s/step - loss: 1.0562 - accuracy: 0.4923 - val_loss: 1.0966 - val_accuracy: 0.3924\n",
            "Epoch 20/100\n",
            "21/21 [==============================] - 27s 1s/step - loss: 1.0367 - accuracy: 0.4954 - val_loss: 1.0698 - val_accuracy: 0.4062\n",
            "Epoch 21/100\n",
            "21/21 [==============================] - 27s 1s/step - loss: 1.0405 - accuracy: 0.4801 - val_loss: 1.0885 - val_accuracy: 0.4236\n",
            "Epoch 22/100\n",
            "21/21 [==============================] - 28s 1s/step - loss: 1.0247 - accuracy: 0.4908 - val_loss: 1.0803 - val_accuracy: 0.4375\n",
            "Epoch 23/100\n",
            "21/21 [==============================] - 27s 1s/step - loss: 1.0947 - accuracy: 0.4647 - val_loss: 0.9602 - val_accuracy: 0.5521\n",
            "Epoch 24/100\n",
            "21/21 [==============================] - 27s 1s/step - loss: 1.0097 - accuracy: 0.4877 - val_loss: 0.9300 - val_accuracy: 0.5521\n",
            "Epoch 25/100\n",
            "21/21 [==============================] - 26s 1s/step - loss: 1.0400 - accuracy: 0.4908 - val_loss: 0.9813 - val_accuracy: 0.5139\n",
            "Epoch 26/100\n",
            "21/21 [==============================] - 26s 1s/step - loss: 1.0418 - accuracy: 0.4724 - val_loss: 0.9096 - val_accuracy: 0.5625\n",
            "Epoch 27/100\n",
            "21/21 [==============================] - 26s 1s/step - loss: 1.0276 - accuracy: 0.4847 - val_loss: 0.8896 - val_accuracy: 0.5556\n",
            "Epoch 28/100\n",
            "21/21 [==============================] - 27s 1s/step - loss: 1.0383 - accuracy: 0.4954 - val_loss: 0.8977 - val_accuracy: 0.5729\n",
            "Epoch 29/100\n",
            "21/21 [==============================] - 28s 1s/step - loss: 1.0573 - accuracy: 0.4693 - val_loss: 0.8742 - val_accuracy: 0.6007\n",
            "Epoch 30/100\n",
            "21/21 [==============================] - 27s 1s/step - loss: 1.0300 - accuracy: 0.5031 - val_loss: 0.9212 - val_accuracy: 0.5660\n",
            "Epoch 31/100\n",
            "21/21 [==============================] - 27s 1s/step - loss: 1.0362 - accuracy: 0.4801 - val_loss: 1.0331 - val_accuracy: 0.4965\n",
            "Epoch 32/100\n",
            "21/21 [==============================] - 27s 1s/step - loss: 1.0470 - accuracy: 0.4586 - val_loss: 1.0057 - val_accuracy: 0.5069\n",
            "Epoch 33/100\n",
            "21/21 [==============================] - 28s 1s/step - loss: 1.0183 - accuracy: 0.5092 - val_loss: 0.9810 - val_accuracy: 0.4861\n",
            "Epoch 34/100\n",
            "21/21 [==============================] - 27s 1s/step - loss: 1.0067 - accuracy: 0.4954 - val_loss: 0.9685 - val_accuracy: 0.5382\n",
            "Epoch 35/100\n",
            "21/21 [==============================] - 27s 1s/step - loss: 1.0444 - accuracy: 0.4632 - val_loss: 0.9570 - val_accuracy: 0.5417\n",
            "Epoch 36/100\n",
            "21/21 [==============================] - 27s 1s/step - loss: 1.0028 - accuracy: 0.4985 - val_loss: 0.9458 - val_accuracy: 0.5451\n",
            "Epoch 37/100\n",
            "21/21 [==============================] - 27s 1s/step - loss: 1.0205 - accuracy: 0.4801 - val_loss: 0.8966 - val_accuracy: 0.5764\n",
            "Epoch 38/100\n",
            "21/21 [==============================] - 27s 1s/step - loss: 1.0047 - accuracy: 0.5153 - val_loss: 0.8765 - val_accuracy: 0.5868\n",
            "Epoch 39/100\n",
            "21/21 [==============================] - 27s 1s/step - loss: 0.9728 - accuracy: 0.5230 - val_loss: 0.8663 - val_accuracy: 0.5764\n",
            "Epoch 40/100\n",
            "21/21 [==============================] - 28s 1s/step - loss: 0.9770 - accuracy: 0.5199 - val_loss: 0.8023 - val_accuracy: 0.6354\n",
            "Epoch 41/100\n",
            "21/21 [==============================] - 26s 1s/step - loss: 0.9939 - accuracy: 0.5337 - val_loss: 0.8028 - val_accuracy: 0.6146\n",
            "Epoch 42/100\n",
            "21/21 [==============================] - 25s 1s/step - loss: 0.9492 - accuracy: 0.5368 - val_loss: 0.7972 - val_accuracy: 0.6319\n",
            "Epoch 43/100\n",
            "21/21 [==============================] - 26s 1s/step - loss: 0.9744 - accuracy: 0.4969 - val_loss: 0.8650 - val_accuracy: 0.6076\n",
            "Epoch 44/100\n",
            "21/21 [==============================] - 26s 1s/step - loss: 0.9221 - accuracy: 0.5690 - val_loss: 0.8601 - val_accuracy: 0.5938\n",
            "Epoch 45/100\n",
            "21/21 [==============================] - 26s 1s/step - loss: 0.9136 - accuracy: 0.5475 - val_loss: 0.8696 - val_accuracy: 0.5729\n",
            "Epoch 46/100\n",
            "21/21 [==============================] - 26s 1s/step - loss: 0.9896 - accuracy: 0.5215 - val_loss: 0.8512 - val_accuracy: 0.6181\n",
            "Epoch 47/100\n",
            "21/21 [==============================] - 27s 1s/step - loss: 0.9441 - accuracy: 0.5460 - val_loss: 0.8299 - val_accuracy: 0.6076\n",
            "Epoch 48/100\n",
            "21/21 [==============================] - 27s 1s/step - loss: 0.9550 - accuracy: 0.5291 - val_loss: 0.8618 - val_accuracy: 0.6076\n",
            "Epoch 49/100\n",
            "21/21 [==============================] - 27s 1s/step - loss: 0.9850 - accuracy: 0.5368 - val_loss: 0.7997 - val_accuracy: 0.6319\n",
            "Epoch 50/100\n",
            "21/21 [==============================] - 27s 1s/step - loss: 0.9272 - accuracy: 0.5660 - val_loss: 0.7681 - val_accuracy: 0.6528\n",
            "Epoch 51/100\n",
            "21/21 [==============================] - 27s 1s/step - loss: 0.9160 - accuracy: 0.5629 - val_loss: 0.8186 - val_accuracy: 0.6181\n",
            "Epoch 52/100\n",
            "21/21 [==============================] - 26s 1s/step - loss: 0.9094 - accuracy: 0.5798 - val_loss: 0.7837 - val_accuracy: 0.6319\n",
            "Epoch 53/100\n",
            "21/21 [==============================] - 27s 1s/step - loss: 0.8663 - accuracy: 0.5920 - val_loss: 0.7470 - val_accuracy: 0.6875\n",
            "Epoch 54/100\n",
            "21/21 [==============================] - 27s 1s/step - loss: 0.9046 - accuracy: 0.5475 - val_loss: 0.7413 - val_accuracy: 0.6875\n",
            "Epoch 55/100\n",
            "21/21 [==============================] - 27s 1s/step - loss: 0.9140 - accuracy: 0.5706 - val_loss: 0.7970 - val_accuracy: 0.5799\n",
            "Epoch 56/100\n",
            "21/21 [==============================] - 26s 1s/step - loss: 0.8687 - accuracy: 0.5675 - val_loss: 0.7657 - val_accuracy: 0.6458\n",
            "Epoch 57/100\n",
            "21/21 [==============================] - 27s 1s/step - loss: 0.9287 - accuracy: 0.5276 - val_loss: 0.7477 - val_accuracy: 0.6458\n",
            "Epoch 58/100\n",
            "21/21 [==============================] - 26s 1s/step - loss: 0.9043 - accuracy: 0.5752 - val_loss: 0.7718 - val_accuracy: 0.6458\n",
            "Epoch 59/100\n",
            "21/21 [==============================] - 25s 1s/step - loss: 0.8905 - accuracy: 0.5736 - val_loss: 0.7306 - val_accuracy: 0.6771\n",
            "Epoch 60/100\n",
            "21/21 [==============================] - 25s 1s/step - loss: 0.8974 - accuracy: 0.5429 - val_loss: 0.7720 - val_accuracy: 0.6285\n",
            "Epoch 61/100\n",
            "21/21 [==============================] - 25s 1s/step - loss: 0.8584 - accuracy: 0.5782 - val_loss: 0.7528 - val_accuracy: 0.6562\n",
            "Epoch 62/100\n",
            "21/21 [==============================] - 25s 1s/step - loss: 0.9077 - accuracy: 0.5798 - val_loss: 0.7772 - val_accuracy: 0.6354\n",
            "Epoch 63/100\n",
            "21/21 [==============================] - 27s 1s/step - loss: 0.9025 - accuracy: 0.5905 - val_loss: 0.7952 - val_accuracy: 0.6354\n",
            "Epoch 64/100\n",
            "21/21 [==============================] - 27s 1s/step - loss: 0.9176 - accuracy: 0.5537 - val_loss: 0.7748 - val_accuracy: 0.6632\n",
            "Epoch 65/100\n",
            "21/21 [==============================] - 26s 1s/step - loss: 0.9302 - accuracy: 0.5460 - val_loss: 0.8411 - val_accuracy: 0.6111\n",
            "Epoch 66/100\n",
            "21/21 [==============================] - 27s 1s/step - loss: 0.9162 - accuracy: 0.5429 - val_loss: 0.7861 - val_accuracy: 0.6389\n",
            "Epoch 67/100\n",
            "21/21 [==============================] - 27s 1s/step - loss: 0.8920 - accuracy: 0.5690 - val_loss: 0.7610 - val_accuracy: 0.6562\n",
            "Epoch 68/100\n",
            "21/21 [==============================] - 27s 1s/step - loss: 0.8601 - accuracy: 0.5613 - val_loss: 0.7493 - val_accuracy: 0.6597\n",
            "Epoch 69/100\n",
            "21/21 [==============================] - 27s 1s/step - loss: 0.8674 - accuracy: 0.5706 - val_loss: 0.6834 - val_accuracy: 0.6910\n",
            "Epoch 70/100\n",
            "21/21 [==============================] - 27s 1s/step - loss: 0.8865 - accuracy: 0.5675 - val_loss: 0.7617 - val_accuracy: 0.6667\n",
            "Epoch 71/100\n",
            "21/21 [==============================] - 27s 1s/step - loss: 0.8743 - accuracy: 0.5660 - val_loss: 0.6772 - val_accuracy: 0.7083\n",
            "Epoch 72/100\n",
            "21/21 [==============================] - 27s 1s/step - loss: 0.8879 - accuracy: 0.5966 - val_loss: 0.7395 - val_accuracy: 0.6771\n",
            "Epoch 73/100\n",
            "21/21 [==============================] - 28s 1s/step - loss: 0.8565 - accuracy: 0.5736 - val_loss: 0.7442 - val_accuracy: 0.6736\n",
            "Epoch 74/100\n",
            "21/21 [==============================] - 27s 1s/step - loss: 0.9233 - accuracy: 0.5491 - val_loss: 0.7070 - val_accuracy: 0.6771\n",
            "Epoch 75/100\n",
            "21/21 [==============================] - 27s 1s/step - loss: 0.8503 - accuracy: 0.6028 - val_loss: 0.6935 - val_accuracy: 0.6944\n",
            "Epoch 76/100\n",
            "21/21 [==============================] - 25s 1s/step - loss: 0.8656 - accuracy: 0.5583 - val_loss: 0.8070 - val_accuracy: 0.6354\n",
            "Epoch 77/100\n",
            "21/21 [==============================] - 25s 1s/step - loss: 0.8708 - accuracy: 0.5767 - val_loss: 0.7099 - val_accuracy: 0.6910\n",
            "Epoch 78/100\n",
            "21/21 [==============================] - 26s 1s/step - loss: 0.8770 - accuracy: 0.5920 - val_loss: 0.7217 - val_accuracy: 0.6771\n",
            "Epoch 79/100\n",
            "21/21 [==============================] - 25s 1s/step - loss: 0.8525 - accuracy: 0.6012 - val_loss: 0.6874 - val_accuracy: 0.6875\n",
            "Epoch 80/100\n",
            "21/21 [==============================] - 26s 1s/step - loss: 0.8750 - accuracy: 0.5736 - val_loss: 0.7108 - val_accuracy: 0.6806\n",
            "Epoch 81/100\n",
            "21/21 [==============================] - 26s 1s/step - loss: 0.8890 - accuracy: 0.5383 - val_loss: 0.6948 - val_accuracy: 0.6875\n",
            "Epoch 82/100\n",
            "21/21 [==============================] - 27s 1s/step - loss: 0.8468 - accuracy: 0.5951 - val_loss: 0.6674 - val_accuracy: 0.6979\n",
            "Epoch 83/100\n",
            "21/21 [==============================] - 27s 1s/step - loss: 0.8897 - accuracy: 0.5675 - val_loss: 0.7262 - val_accuracy: 0.6840\n",
            "Epoch 84/100\n",
            "21/21 [==============================] - 27s 1s/step - loss: 0.8857 - accuracy: 0.5721 - val_loss: 0.7298 - val_accuracy: 0.6736\n",
            "Epoch 85/100\n",
            "21/21 [==============================] - 27s 1s/step - loss: 0.8425 - accuracy: 0.6104 - val_loss: 0.6914 - val_accuracy: 0.6875\n",
            "Epoch 86/100\n",
            "21/21 [==============================] - 27s 1s/step - loss: 0.8667 - accuracy: 0.5721 - val_loss: 0.7450 - val_accuracy: 0.6493\n",
            "Epoch 87/100\n",
            "21/21 [==============================] - 27s 1s/step - loss: 0.8513 - accuracy: 0.6196 - val_loss: 0.7084 - val_accuracy: 0.6667\n",
            "Epoch 88/100\n",
            "21/21 [==============================] - 27s 1s/step - loss: 0.9112 - accuracy: 0.5690 - val_loss: 0.6654 - val_accuracy: 0.6910\n",
            "Epoch 89/100\n",
            "21/21 [==============================] - 27s 1s/step - loss: 0.8363 - accuracy: 0.5752 - val_loss: 0.7183 - val_accuracy: 0.6632\n",
            "Epoch 90/100\n",
            "21/21 [==============================] - 27s 1s/step - loss: 0.8461 - accuracy: 0.6028 - val_loss: 0.7832 - val_accuracy: 0.6146\n",
            "Epoch 91/100\n",
            "21/21 [==============================] - 28s 1s/step - loss: 0.8524 - accuracy: 0.5966 - val_loss: 0.7915 - val_accuracy: 0.6250\n",
            "Epoch 92/100\n",
            "21/21 [==============================] - 27s 1s/step - loss: 0.8221 - accuracy: 0.6058 - val_loss: 0.6539 - val_accuracy: 0.6979\n",
            "Epoch 93/100\n",
            "21/21 [==============================] - 26s 1s/step - loss: 0.8083 - accuracy: 0.6012 - val_loss: 0.6425 - val_accuracy: 0.7396\n",
            "Epoch 94/100\n",
            "21/21 [==============================] - 24s 1s/step - loss: 0.8434 - accuracy: 0.5859 - val_loss: 0.6682 - val_accuracy: 0.7014\n",
            "Epoch 95/100\n",
            "21/21 [==============================] - 25s 1s/step - loss: 0.8660 - accuracy: 0.5951 - val_loss: 0.6991 - val_accuracy: 0.6424\n",
            "Epoch 96/100\n",
            "21/21 [==============================] - 24s 1s/step - loss: 0.8214 - accuracy: 0.6012 - val_loss: 0.6347 - val_accuracy: 0.7257\n",
            "Epoch 97/100\n",
            "21/21 [==============================] - 26s 1s/step - loss: 0.8379 - accuracy: 0.5982 - val_loss: 0.6388 - val_accuracy: 0.7083\n",
            "Epoch 98/100\n",
            "21/21 [==============================] - 27s 1s/step - loss: 0.8256 - accuracy: 0.6074 - val_loss: 0.7001 - val_accuracy: 0.6736\n",
            "Epoch 99/100\n",
            "21/21 [==============================] - 27s 1s/step - loss: 0.8477 - accuracy: 0.6043 - val_loss: 0.7450 - val_accuracy: 0.6458\n",
            "Epoch 100/100\n",
            "21/21 [==============================] - 27s 1s/step - loss: 0.8701 - accuracy: 0.5905 - val_loss: 0.6941 - val_accuracy: 0.6597\n"
          ],
          "name": "stdout"
        }
      ]
    },
    {
      "cell_type": "code",
      "metadata": {
        "id": "jrr3fwFpPK_j"
      },
      "source": [
        "import matplotlib.pyplot as plt"
      ],
      "execution_count": 27,
      "outputs": []
    },
    {
      "cell_type": "code",
      "metadata": {
        "id": "4K0wDFT7W9q6",
        "outputId": "e1fd985d-b1a5-4f61-8494-70f3c6b1a728",
        "colab": {
          "base_uri": "https://localhost:8080/",
          "height": 295
        }
      },
      "source": [
        "plt.plot(history.history['accuracy'])\n",
        "plt.plot(history.history['val_accuracy'])\n",
        "plt.title('model accuracy')\n",
        "plt.ylabel('accuracy')\n",
        "plt.xlabel('epoch')\n",
        "plt.legend(['train', 'vaidation'], loc='upper left')\n",
        "plt.show()"
      ],
      "execution_count": 28,
      "outputs": [
        {
          "output_type": "display_data",
          "data": {
            "image/png": "[encoded data removed]",
            "text/plain": [
              "<Figure size 432x288 with 1 Axes>"
            ]
          },
          "metadata": {
            "tags": [],
            "needs_background": "light"
          }
        }
      ]
    },
    {
      "cell_type": "code",
      "metadata": {
        "id": "48b-AQHiPK_m",
        "outputId": "9d2e94b9-96ea-4b96-9664-9a337c0694d7",
        "colab": {
          "base_uri": "https://localhost:8080/",
          "height": 295
        }
      },
      "source": [
        "plt.plot(history.history['loss'])\n",
        "plt.plot(history.history['val_loss'])\n",
        "plt.title('model loss')\n",
        "plt.ylabel('loss')\n",
        "plt.xlabel('epoch')\n",
        "plt.legend(['train', 'validation'], loc='upper left')\n",
        "plt.show()"
      ],
      "execution_count": 29,
      "outputs": [
        {
          "output_type": "display_data",
          "data": {
            "image/png": "[encoded data removed]",
            "text/plain": [
              "<Figure size 432x288 with 1 Axes>"
            ]
          },
          "metadata": {
            "tags": [],
            "needs_background": "light"
          }
        }
      ]
    },
    {
      "cell_type": "code",
      "metadata": {
        "id": "QOAfGJ9uPK_p"
      },
      "source": [
        "validation_data_generator = ImageDataGenerator(\n",
        "    rescale=1./255\n",
        ")"
      ],
      "execution_count": 30,
      "outputs": []
    },
    {
      "cell_type": "code",
      "metadata": {
        "id": "7Rilg3COPK_s",
        "outputId": "9669fed5-5796-4eb7-82fc-990f98174db1",
        "colab": {
          "base_uri": "https://localhost:8080/",
          "height": 34
        }
      },
      "source": [
        "val_data = validation_data_generator.flow_from_directory(\n",
        "    batch_size=1,\n",
        "    directory=val_dir,\n",
        "    shuffle=False,\n",
        "    target_size=(img_height, img_width),\n",
        "    class_mode='categorical'\n",
        ")\n",
        "idx2label_dict = {val_data.class_indices[k]: k for k in val_data.class_indices}"
      ],
      "execution_count": 31,
      "outputs": [
        {
          "output_type": "stream",
          "text": [
            "Found 288 images belonging to 3 classes.\n"
          ],
          "name": "stdout"
        }
      ]
    },
    {
      "cell_type": "code",
      "metadata": {
        "id": "lZlY2-OSPK_v",
        "outputId": "053816af-550b-4cfc-b094-bee82a10d767",
        "colab": {
          "base_uri": "https://localhost:8080/",
          "height": 34
        }
      },
      "source": [
        "model.load_weights('/content/PKModel2.h5')\n",
        "y_pred = model.predict(val_data, steps=288)\n",
        "y_true = val_data.classes\n",
        "print(y_pred.shape,y_true.shape)"
      ],
      "execution_count": 33,
      "outputs": [
        {
          "output_type": "stream",
          "text": [
            "(288, 3) (288,)\n"
          ],
          "name": "stdout"
        }
      ]
    },
    {
      "cell_type": "code",
      "metadata": {
        "id": "6XVGGcYEPK_z",
        "outputId": "641ef67b-2b8d-4a18-95eb-7e2fed8743c0",
        "colab": {
          "base_uri": "https://localhost:8080/",
          "height": 255
        }
      },
      "source": [
        "import numpy as np\n",
        "\n",
        "y_pred = np.argmax(y_pred, axis = 1)\n",
        "y_pred"
      ],
      "execution_count": 34,
      "outputs": [
        {
          "output_type": "execute_result",
          "data": {
            "text/plain": [
              "array([2, 0, 0, 0, 0, 2, 0, 1, 0, 0, 2, 0, 0, 0, 0, 0, 0, 0, 0, 0, 0, 0,\n",
              "       0, 0, 0, 1, 0, 0, 0, 0, 0, 0, 2, 0, 0, 0, 0, 2, 0, 1, 0, 0, 2, 0,\n",
              "       0, 0, 0, 0, 0, 0, 0, 0, 0, 0, 0, 0, 0, 1, 0, 0, 0, 0, 0, 0, 2, 0,\n",
              "       0, 0, 2, 0, 2, 0, 0, 0, 2, 0, 2, 1, 1, 1, 1, 1, 1, 1, 2, 1, 2, 1,\n",
              "       1, 2, 1, 1, 2, 1, 2, 2, 2, 1, 1, 1, 1, 1, 1, 1, 1, 1, 1, 0, 1, 2,\n",
              "       2, 2, 2, 1, 2, 1, 2, 1, 1, 1, 2, 2, 2, 1, 1, 1, 2, 2, 2, 1, 1, 1,\n",
              "       1, 1, 1, 1, 1, 1, 1, 1, 1, 1, 1, 1, 1, 1, 1, 1, 2, 1, 2, 1, 1, 1,\n",
              "       1, 1, 1, 1, 1, 1, 1, 1, 1, 1, 1, 1, 2, 1, 1, 1, 1, 1, 2, 1, 1, 1,\n",
              "       1, 1, 1, 1, 2, 1, 2, 2, 2, 1, 0, 2, 2, 2, 2, 2, 2, 2, 1, 2, 2, 2,\n",
              "       2, 2, 0, 2, 2, 1, 1, 2, 2, 2, 1, 2, 0, 2, 2, 2, 1, 1, 2, 2, 2, 2,\n",
              "       0, 2, 1, 1, 2, 1, 0, 2, 2, 1, 1, 0, 2, 2, 2, 2, 2, 2, 1, 2, 1, 1,\n",
              "       2, 1, 2, 2, 0, 1, 2, 2, 2, 2, 1, 2, 2, 2, 2, 1, 2, 2, 1, 1, 2, 2,\n",
              "       0, 2, 2, 2, 2, 1, 1, 1, 2, 1, 1, 2, 2, 2, 1, 1, 2, 2, 2, 1, 0, 1,\n",
              "       2, 2])"
            ]
          },
          "metadata": {
            "tags": []
          },
          "execution_count": 34
        }
      ]
    },
    {
      "cell_type": "code",
      "metadata": {
        "id": "edcGqQ4wPK_4",
        "outputId": "f38c40b2-371d-42a1-afd1-63d5fc891ffb",
        "colab": {
          "base_uri": "https://localhost:8080/",
          "height": 255
        }
      },
      "source": [
        "y_true"
      ],
      "execution_count": 35,
      "outputs": [
        {
          "output_type": "execute_result",
          "data": {
            "text/plain": [
              "array([0, 0, 0, 0, 0, 0, 0, 0, 0, 0, 0, 0, 0, 0, 0, 0, 0, 0, 0, 0, 0, 0,\n",
              "       0, 0, 0, 0, 0, 0, 0, 0, 0, 0, 0, 0, 0, 0, 0, 0, 0, 0, 0, 0, 0, 0,\n",
              "       0, 0, 0, 0, 0, 0, 0, 0, 0, 0, 0, 0, 0, 0, 0, 0, 0, 0, 0, 0, 0, 0,\n",
              "       0, 0, 0, 0, 0, 0, 0, 0, 0, 0, 1, 1, 1, 1, 1, 1, 1, 1, 1, 1, 1, 1,\n",
              "       1, 1, 1, 1, 1, 1, 1, 1, 1, 1, 1, 1, 1, 1, 1, 1, 1, 1, 1, 1, 1, 1,\n",
              "       1, 1, 1, 1, 1, 1, 1, 1, 1, 1, 1, 1, 1, 1, 1, 1, 1, 1, 1, 1, 1, 1,\n",
              "       1, 1, 1, 1, 1, 1, 1, 1, 1, 1, 1, 1, 1, 1, 1, 1, 1, 1, 1, 1, 1, 1,\n",
              "       1, 1, 1, 1, 1, 1, 1, 1, 1, 1, 1, 1, 1, 1, 1, 1, 1, 1, 1, 1, 1, 1,\n",
              "       1, 1, 1, 1, 1, 1, 2, 2, 2, 2, 2, 2, 2, 2, 2, 2, 2, 2, 2, 2, 2, 2,\n",
              "       2, 2, 2, 2, 2, 2, 2, 2, 2, 2, 2, 2, 2, 2, 2, 2, 2, 2, 2, 2, 2, 2,\n",
              "       2, 2, 2, 2, 2, 2, 2, 2, 2, 2, 2, 2, 2, 2, 2, 2, 2, 2, 2, 2, 2, 2,\n",
              "       2, 2, 2, 2, 2, 2, 2, 2, 2, 2, 2, 2, 2, 2, 2, 2, 2, 2, 2, 2, 2, 2,\n",
              "       2, 2, 2, 2, 2, 2, 2, 2, 2, 2, 2, 2, 2, 2, 2, 2, 2, 2, 2, 2, 2, 2,\n",
              "       2, 2], dtype=int32)"
            ]
          },
          "metadata": {
            "tags": []
          },
          "execution_count": 35
        }
      ]
    },
    {
      "cell_type": "code",
      "metadata": {
        "id": "pFr9CHLgPK_7"
      },
      "source": [
        "from sklearn.metrics import confusion_matrix\n",
        "import seaborn as sn\n",
        "import pandas as pd"
      ],
      "execution_count": 36,
      "outputs": []
    },
    {
      "cell_type": "code",
      "metadata": {
        "id": "l7NWTKUPPK_-"
      },
      "source": [
        "def get_key(mydict,val): \n",
        "    for key, value in mydict.items(): \n",
        "         if val == value: \n",
        "             return key "
      ],
      "execution_count": 37,
      "outputs": []
    },
    {
      "cell_type": "code",
      "metadata": {
        "id": "6CNiff-lPLAB"
      },
      "source": [
        "def calReCall(y_true,y_pred,idx2label_dict,class_name):\n",
        "    cm = confusion_matrix(y_true, y_pred)\n",
        "    df_cm = pd.DataFrame(cm, index = [idx2label_dict[int(i)] for i in \"012\"],\n",
        "                  columns = [idx2label_dict[int(i)] for i in \"012\"])\n",
        "    plt.figure(figsize = (10,7))\n",
        "    sn.heatmap(df_cm, annot=True,linewidths=.5)\n",
        "    id = get_key(idx2label_dict,class_name)\n",
        "    out = np.sum(cm, axis=1)\n",
        "    return cm[id][id]/out[id]"
      ],
      "execution_count": 38,
      "outputs": []
    },
    {
      "cell_type": "code",
      "metadata": {
        "id": "brQF5cmFPLAF",
        "outputId": "7ac75316-4eaf-48b4-85cc-1c97f06d7852",
        "colab": {
          "base_uri": "https://localhost:8080/",
          "height": 450
        }
      },
      "source": [
        "recallVal = calReCall(y_true,y_pred,idx2label_dict,'Covid-19')\n",
        "print(\"Recall: \",recallVal)"
      ],
      "execution_count": 39,
      "outputs": [
        {
          "output_type": "stream",
          "text": [
            "Recall:  0.8157894736842105\n"
          ],
          "name": "stdout"
        },
        {
          "output_type": "display_data",
          "data": {
            "image/png": "[encoded data removed]",
            "text/plain": [
              "<Figure size 720x504 with 2 Axes>"
            ]
          },
          "metadata": {
            "tags": [],
            "needs_background": "light"
          }
        }
      ]
    }
  ]
}