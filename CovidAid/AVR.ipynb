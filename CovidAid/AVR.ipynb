{
  "nbformat": 4,
  "nbformat_minor": 0,
  "metadata": {
    "colab": {
      "name": "AVR.ipynb",
      "provenance": [],
      "collapsed_sections": [],
      "toc_visible": true
    },
    "kernelspec": {
      "name": "python3",
      "display_name": "Python 3"
    },
    "accelerator": "GPU"
  },
  "cells": [
    {
      "cell_type": "code",
      "metadata": {
        "id": "AwN-2o2AYdeF"
      },
      "source": [
        "import torch\n",
        "import torch.nn as nn\n",
        "from torchvision import datasets, models, transforms\n",
        "import torch.optim as optim\n",
        "import time\n",
        "import os\n",
        "import copy\n",
        "import glob\n",
        "from PIL import Image\n",
        "import numpy as np\n",
        "import matplotlib.pyplot as plt"
      ],
      "execution_count": null,
      "outputs": []
    },
    {
      "cell_type": "code",
      "metadata": {
        "id": "LOOPvbc8dCiG"
      },
      "source": [
        "basePath = '/content/'\n",
        "\n",
        "modelSave = basePath+'weights.pth'\n",
        "\n",
        "data_dir = basePath+'Sample'\n",
        "#data_dir = basePath+'Dataset_2'\n",
        "\n",
        "batch_size = 8\n",
        "num_epochs = 1\n",
        "input_size = 224\n",
        "NUM_CLASSES = 3"
      ],
      "execution_count": null,
      "outputs": []
    },
    {
      "cell_type": "code",
      "metadata": {
        "id": "vkLw-FfnlRQM"
      },
      "source": [
        "image_types = [\"Covid-19\",\"No_findings\",\"Pneumonia\"]\n",
        "device = torch.device(\"cuda:0\" if torch.cuda.is_available() else \"cpu\")"
      ],
      "execution_count": null,
      "outputs": []
    },
    {
      "cell_type": "code",
      "metadata": {
        "id": "eP4d1ruvwBvA"
      },
      "source": [
        "def resize_images(image_dir):\n",
        "  for im_type in image_types:\n",
        "    # Iterate through each image file in each image_type folder\n",
        "    #  glob reads in any image with the extension \"image_dir/im_type/*\"\n",
        "    for file in glob.glob(os.path.join(image_dir, im_type, \"*\")):\n",
        "        im = Image.open(file)\n",
        "        f, e = os.path.splitext(file)\n",
        "        imResize = im.resize((input_size,input_size), Image.ANTIALIAS)\n",
        "        os.remove(file)\n",
        "        imResize.save(f + '.png', 'PNG', quality=90)"
      ],
      "execution_count": null,
      "outputs": []
    },
    {
      "cell_type": "code",
      "metadata": {
        "id": "aDlbcP3hwDvA",
        "outputId": "69183f34-c610-4694-8bf3-45859d3d3b61",
        "colab": {
          "base_uri": "https://localhost:8080/",
          "height": 52
        }
      },
      "source": [
        "'''!cp -R '/content/drive/My Drive/COVID-19/Sample' '/content/'\n",
        "#!cp -R '/content/drive/My Drive/COVID-19/Dataset_2' '/content/'\n",
        "resize_images(data_dir+'/train')\n",
        "resize_images(data_dir+'/val')'''"
      ],
      "execution_count": null,
      "outputs": [
        {
          "output_type": "execute_result",
          "data": {
            "application/vnd.google.colaboratory.intrinsic+json": {
              "type": "string"
            },
            "text/plain": [
              "\"!cp -R '/content/drive/My Drive/COVID-19/Sample' '/content/'\\n#!cp -R '/content/drive/My Drive/COVID-19/Dataset_2' '/content/'\\nresize_images(data_dir+'/train')\\nresize_images(data_dir+'/val')\""
            ]
          },
          "metadata": {
            "tags": []
          },
          "execution_count": 26
        }
      ]
    },
    {
      "cell_type": "code",
      "metadata": {
        "id": "Y2c78pEbWIko",
        "outputId": "7eaf0df4-b395-4554-aa31-f0e2597be0e7",
        "colab": {
          "base_uri": "https://localhost:8080/",
          "height": 35
        }
      },
      "source": [
        "'''resize_images(data_dir+'/train')\n",
        "resize_images(data_dir+'/val')'''"
      ],
      "execution_count": null,
      "outputs": [
        {
          "output_type": "execute_result",
          "data": {
            "application/vnd.google.colaboratory.intrinsic+json": {
              "type": "string"
            },
            "text/plain": [
              "\"resize_images(data_dir+'/train')\\nresize_images(data_dir+'/val')\""
            ]
          },
          "metadata": {
            "tags": []
          },
          "execution_count": 27
        }
      ]
    },
    {
      "cell_type": "code",
      "metadata": {
        "id": "VbHR5M_XwHOo"
      },
      "source": [
        "#!rm -R 'Sample'"
      ],
      "execution_count": null,
      "outputs": []
    },
    {
      "cell_type": "code",
      "metadata": {
        "id": "qRjriXBpYxrQ"
      },
      "source": [
        "class DenseNet121(nn.Module):\n",
        "    def __init__(self, out_size):\n",
        "        super(DenseNet121, self).__init__()\n",
        "        self.densenet121 = models.densenet121(pretrained=True)\n",
        "        num_ftrs = self.densenet121.classifier.in_features\n",
        "        self.densenet121.classifier = nn.Sequential(\n",
        "            nn.Linear(num_ftrs, out_size),\n",
        "            nn.Sigmoid()\n",
        "        )\n",
        "\n",
        "    def forward(self, x):\n",
        "        x = self.densenet121(x)\n",
        "        return x\n",
        "    \n",
        "\n",
        "class CovidAID(DenseNet121):\n",
        "    def __init__(self):\n",
        "        #NUM_CLASSES = 3\n",
        "        super(CovidAID, self).__init__(NUM_CLASSES)"
      ],
      "execution_count": null,
      "outputs": []
    },
    {
      "cell_type": "code",
      "metadata": {
        "id": "keBWpl6qcjzt"
      },
      "source": [
        "def getTrainDataLoaders():\n",
        "    # Data augmentation and normalization for training\n",
        "    # Just normalization for validation\n",
        "    data_transforms = {\n",
        "        'train': transforms.Compose([\n",
        "            transforms.RandomHorizontalFlip(),\n",
        "            transforms.ToTensor(),\n",
        "            transforms.Normalize([0.485, 0.456, 0.406], [0.229, 0.224, 0.225])\n",
        "        ]),\n",
        "        'val': transforms.Compose([\n",
        "            transforms.ToTensor(),\n",
        "            transforms.Normalize([0.485, 0.456, 0.406], [0.229, 0.224, 0.225])\n",
        "        ])\n",
        "    }\n",
        "\n",
        "    print(\"Initializing Datasets and Dataloaders...\")\n",
        "\n",
        "    # Create training and validation datasets\n",
        "    image_datasets = {x: datasets.ImageFolder(os.path.join(data_dir, x), data_transforms[x]) for x in ['train', 'val']}\n",
        "    # Create training and validation dataloaders\n",
        "    idx2label_dict = {v: k for k, v in image_datasets['train'].class_to_idx.items()}\n",
        "    dataloaders_dict = {x: torch.utils.data.DataLoader(image_datasets[x], batch_size=batch_size, shuffle=True, num_workers=4) for x in ['train', 'val']}\n",
        "\n",
        "    return idx2label_dict,dataloaders_dict"
      ],
      "execution_count": null,
      "outputs": []
    },
    {
      "cell_type": "code",
      "metadata": {
        "id": "huxCiX14cpmM"
      },
      "source": [
        "def getUpdatablePara(model):\n",
        "    params_to_update = model.parameters()\n",
        "    #print(\"Params to learn:\")\n",
        "    params_to_update = []\n",
        "    for name,param in model.named_parameters():\n",
        "        if  param.requires_grad == True:\n",
        "            params_to_update.append(param)\n",
        "            #print(\"\\t\",name)\n",
        "    return params_to_update"
      ],
      "execution_count": null,
      "outputs": []
    },
    {
      "cell_type": "code",
      "metadata": {
        "id": "n5Bh2uyc0Z6P"
      },
      "source": [
        "def getClassCount(dataloaders,phase):\n",
        "    class_count = [0]*NUM_CLASSES\n",
        "    for _, labels in dataloaders[phase]:\n",
        "        unique_elements, counts_elements = np.unique(labels, return_counts=True)\n",
        "        for i in range(unique_elements.shape[0]):\n",
        "            class_count[unique_elements[i]] += counts_elements[i]\n",
        "\n",
        "    return np.asarray(class_count)"
      ],
      "execution_count": null,
      "outputs": []
    },
    {
      "cell_type": "code",
      "metadata": {
        "id": "6-CZ4weDIArl"
      },
      "source": [
        "def cross_entropy(target,pred,pos,total):\n",
        "    out = ((total-pos)/total)*target*torch.log2(pred) + ((pos)/total)*(1-target)*torch.log2(1-pred)\n",
        "    return -torch.sum(out)"
      ],
      "execution_count": null,
      "outputs": []
    },
    {
      "cell_type": "code",
      "metadata": {
        "id": "o0SIjA65IElF"
      },
      "source": [
        "def loss(labels,outputs,class_count):\n",
        "    one_hot = torch.nn.functional.one_hot(labels,num_classes = NUM_CLASSES)\n",
        "    total = np.sum(class_count)\n",
        "    flag = True\n",
        "    total_loss = torch.tensor(0)\n",
        "    for i in range(outputs.shape[1]):\n",
        "        temp = cross_entropy(one_hot[:,i],outputs[:,i],class_count[i],total)\n",
        "        if flag:\n",
        "            total_loss = temp\n",
        "            flag = False\n",
        "        else:\n",
        "            total_loss += temp\n",
        "    return total_loss"
      ],
      "execution_count": null,
      "outputs": []
    },
    {
      "cell_type": "code",
      "metadata": {
        "id": "xKVGJWvL7l3B"
      },
      "source": [
        "y_true = np.asarray([],dtype=np.int32)\n",
        "y_pred = np.asarray([],dtype=np.int32)"
      ],
      "execution_count": null,
      "outputs": []
    },
    {
      "cell_type": "code",
      "metadata": {
        "id": "0whbsVLddMEN"
      },
      "source": [
        "def train_model(model, dataloaders, optimizer, num_epochs=25):\n",
        "    global y_true\n",
        "    global y_pred\n",
        "    since = time.time()\n",
        "\n",
        "    val_acc_history = {'train':[],'val':[]}\n",
        "\n",
        "    best_model_wts = copy.deepcopy(model.state_dict())\n",
        "    best_acc = 0.0\n",
        "\n",
        "    for epoch in range(num_epochs):\n",
        "        print('Epoch {}/{}'.format(epoch, num_epochs - 1))\n",
        "        print('-' * 10)\n",
        "\n",
        "        # Each epoch has a training and validation phase\n",
        "        for phase in ['val']:\n",
        "        #for phase in ['train', 'val']:\n",
        "            if phase == 'train':\n",
        "                model.train()  # Set model to training mode\n",
        "            else:\n",
        "                model.eval()   # Set model to evaluate mode\n",
        "\n",
        "            class_count = getClassCount(dataloaders,phase)\n",
        "\n",
        "            running_loss = 0.0\n",
        "            running_corrects = 0\n",
        "\n",
        "            # Iterate over data.\n",
        "            for inputs, labels in dataloaders[phase]:\n",
        "                inputs = inputs.to(device)\n",
        "                labels = labels.to(device)\n",
        "\n",
        "                # zero the parameter gradients\n",
        "                optimizer.zero_grad()\n",
        "\n",
        "                with torch.set_grad_enabled(phase == 'train'):\n",
        "                    # Get model outputs and calculate loss\n",
        "                    outputs = model(inputs)\n",
        "                    lossVar = loss(labels,outputs,class_count)\n",
        "                    #lossVar = criterion(outputs,labels)\n",
        "                    _, preds = torch.max(outputs, 1)\n",
        "                    #print(preds.numpy(),labels.data.numpy())\n",
        "                    y_true = np.append(y_true,labels.data.detach().cpu().numpy())\n",
        "                    y_pred = np.append(y_pred,preds.detach().cpu().numpy())\n",
        "                    #print(y_true,y_pred)\n",
        "                    # backward + optimize only if in training phase\n",
        "                    if phase == 'train':\n",
        "                        lossVar.backward()\n",
        "                        optimizer.step()\n",
        "\n",
        "                # statistics\n",
        "                running_loss += lossVar.item() * inputs.size(0)\n",
        "                running_corrects += torch.sum(preds == labels.data)\n",
        "\n",
        "            epoch_loss = running_loss / len(dataloaders[phase].dataset)\n",
        "            epoch_acc = running_corrects.double() / len(dataloaders[phase].dataset)\n",
        "\n",
        "            print('{} Loss: {:.4f} Acc: {:.4f}'.format(phase, epoch_loss, epoch_acc))\n",
        "\n",
        "            # deep copy the model\n",
        "            if phase == 'val' and epoch_acc > best_acc:\n",
        "                best_acc = epoch_acc\n",
        "                best_model_wts = copy.deepcopy(model.state_dict())\n",
        "            val_acc_history[phase].append(epoch_acc.item())\n",
        "\n",
        "        print()\n",
        "\n",
        "    time_elapsed = time.time() - since\n",
        "    print('Training complete in {:.0f}m {:.0f}s'.format(time_elapsed // 60, time_elapsed % 60))\n",
        "    print('Best val Acc: {:4f}'.format(best_acc))\n",
        "\n",
        "    # load best model weights\n",
        "    model.load_state_dict(best_model_wts)\n",
        "    return model, val_acc_history"
      ],
      "execution_count": null,
      "outputs": []
    },
    {
      "cell_type": "code",
      "metadata": {
        "id": "LINfE0BCbMvW"
      },
      "source": [
        "model = CovidAID()\n",
        "#model.load_state_dict( torch.load(modelSave))\n",
        "model = model.to(device)"
      ],
      "execution_count": null,
      "outputs": []
    },
    {
      "cell_type": "code",
      "metadata": {
        "id": "AYW5q334cB9O"
      },
      "source": [
        "#print(model)"
      ],
      "execution_count": null,
      "outputs": []
    },
    {
      "cell_type": "code",
      "metadata": {
        "id": "p0pe2PazcscG",
        "outputId": "ae90cea0-c6a9-452e-fee8-122594ca00f4",
        "colab": {
          "base_uri": "https://localhost:8080/",
          "height": 34
        }
      },
      "source": [
        "idx2label_dict,dataloaders = getTrainDataLoaders()\n",
        "params_to_update = getUpdatablePara(model)"
      ],
      "execution_count": null,
      "outputs": [
        {
          "output_type": "stream",
          "text": [
            "Initializing Datasets and Dataloaders...\n"
          ],
          "name": "stdout"
        }
      ]
    },
    {
      "cell_type": "code",
      "metadata": {
        "id": "QntAtVSiczQk",
        "outputId": "01aaea86-3a79-4b41-92d9-e4962595a178",
        "colab": {
          "base_uri": "https://localhost:8080/",
          "height": 119
        }
      },
      "source": [
        "# Observe that all parameters are being optimized\n",
        "optimizer_ft = optim.Adam(params_to_update, lr=0.00001)\n",
        "\n",
        "model_out, hist = train_model(model, dataloaders, optimizer_ft, num_epochs=num_epochs)\n",
        "\n",
        "torch.save(model_out.state_dict(), modelSave)"
      ],
      "execution_count": null,
      "outputs": [
        {
          "output_type": "stream",
          "text": [
            "Epoch 0/0\n",
            "----------\n",
            "val Loss: 8.4425 Acc: 0.3333\n",
            "\n",
            "Training complete in 0m 1s\n",
            "Best val Acc: 0.333333\n"
          ],
          "name": "stdout"
        }
      ]
    },
    {
      "cell_type": "code",
      "metadata": {
        "id": "EAchS_5kOhHl",
        "outputId": "cc3657c9-ce9b-4691-afaf-b15f4513382d",
        "colab": {
          "base_uri": "https://localhost:8080/",
          "height": 295
        }
      },
      "source": [
        "# summarize history for loss\n",
        "plt.plot(hist['train'])\n",
        "plt.plot(hist['val'])\n",
        "plt.title('model accuracy')\n",
        "plt.ylabel('Accuracy')\n",
        "plt.xlabel('epoch')\n",
        "plt.legend(['train', 'validation'], loc='upper left')\n",
        "plt.show()"
      ],
      "execution_count": null,
      "outputs": [
        {
          "output_type": "display_data",
          "data": {
            "image/png": "[encoded data removed]",
            "text/plain": [
              "<Figure size 432x288 with 1 Axes>"
            ]
          },
          "metadata": {
            "tags": [],
            "needs_background": "light"
          }
        }
      ]
    },
    {
      "cell_type": "markdown",
      "metadata": {
        "id": "HFH7dMLYwh1c"
      },
      "source": [
        "# **Recall**"
      ]
    },
    {
      "cell_type": "code",
      "metadata": {
        "id": "AjCuyVoa2L39"
      },
      "source": [
        "from sklearn.metrics import confusion_matrix\n",
        "import seaborn as sn\n",
        "import pandas as pd"
      ],
      "execution_count": null,
      "outputs": []
    },
    {
      "cell_type": "code",
      "metadata": {
        "id": "pC2cPij4fTx0"
      },
      "source": [
        "def get_key(mydict,val): \n",
        "    for key, value in mydict.items(): \n",
        "         if val == value: \n",
        "             return key "
      ],
      "execution_count": null,
      "outputs": []
    },
    {
      "cell_type": "code",
      "metadata": {
        "id": "STQ5lM6kfL1v"
      },
      "source": [
        "def calReCall(y_true,y_pred,idx2label_dict,class_name):\n",
        "    cm = confusion_matrix(y_true, y_pred)\n",
        "    df_cm = pd.DataFrame(cm, index = [idx2label_dict[int(i)] for i in \"012\"],\n",
        "                  columns = [idx2label_dict[int(i)] for i in \"012\"])\n",
        "    plt.figure(figsize = (10,7))\n",
        "    sn.heatmap(df_cm, annot=True,linewidths=.5)\n",
        "    id = get_key(idx2label_dict,class_name)\n",
        "    out = np.sum(cm, axis=1)\n",
        "    return cm[id][id]/out[id]"
      ],
      "execution_count": null,
      "outputs": []
    },
    {
      "cell_type": "code",
      "metadata": {
        "id": "wZdGED3t2esS",
        "outputId": "97fc61d9-56b6-4424-9182-d9c726d11a2d",
        "colab": {
          "base_uri": "https://localhost:8080/",
          "height": 450
        }
      },
      "source": [
        "recallVal = calReCall(y_true,y_pred,idx2label_dict,'Covid-19')\n",
        "print(\"Recall: \",recallVal)"
      ],
      "execution_count": null,
      "outputs": [
        {
          "output_type": "stream",
          "text": [
            "Recall:  0.0\n"
          ],
          "name": "stdout"
        },
        {
          "output_type": "display_data",
          "data": {
            "image/png": "[encoded data removed]",
            "text/plain": [
              "<Figure size 720x504 with 2 Axes>"
            ]
          },
          "metadata": {
            "tags": [],
            "needs_background": "light"
          }
        }
      ]
    }
  ]
}